{
  "nbformat": 4,
  "nbformat_minor": 0,
  "metadata": {
    "kernelspec": {
      "display_name": "Python 3",
      "language": "python",
      "name": "python3"
    },
    "language_info": {
      "codemirror_mode": {
        "name": "ipython",
        "version": 3
      },
      "file_extension": ".py",
      "mimetype": "text/x-python",
      "name": "python",
      "nbconvert_exporter": "python",
      "pygments_lexer": "ipython3",
      "version": "3.7.9"
    },
    "colab": {
      "name": "Final_Project_Final_Model.ipynb",
      "provenance": [],
      "collapsed_sections": []
    },
    "accelerator": "GPU",
    "widgets": {
      "application/vnd.jupyter.widget-state+json": {
        "4f86e0faaae840c3a41381d716dfc04f": {
          "model_module": "@jupyter-widgets/controls",
          "model_name": "HBoxModel",
          "state": {
            "_view_name": "HBoxView",
            "_dom_classes": [],
            "_model_name": "HBoxModel",
            "_view_module": "@jupyter-widgets/controls",
            "_model_module_version": "1.5.0",
            "_view_count": null,
            "_view_module_version": "1.5.0",
            "box_style": "",
            "layout": "IPY_MODEL_b82db9cd0ed74f7c9bd8b9dfa58e9e55",
            "_model_module": "@jupyter-widgets/controls",
            "children": [
              "IPY_MODEL_fa0a6d8c406145c0aed162b8ff0fa418",
              "IPY_MODEL_7e481bec65cc4035ba0f4f08254c8e4a"
            ]
          }
        },
        "b82db9cd0ed74f7c9bd8b9dfa58e9e55": {
          "model_module": "@jupyter-widgets/base",
          "model_name": "LayoutModel",
          "state": {
            "_view_name": "LayoutView",
            "grid_template_rows": null,
            "right": null,
            "justify_content": null,
            "_view_module": "@jupyter-widgets/base",
            "overflow": null,
            "_model_module_version": "1.2.0",
            "_view_count": null,
            "flex_flow": null,
            "width": null,
            "min_width": null,
            "border": null,
            "align_items": null,
            "bottom": null,
            "_model_module": "@jupyter-widgets/base",
            "top": null,
            "grid_column": null,
            "overflow_y": null,
            "overflow_x": null,
            "grid_auto_flow": null,
            "grid_area": null,
            "grid_template_columns": null,
            "flex": null,
            "_model_name": "LayoutModel",
            "justify_items": null,
            "grid_row": null,
            "max_height": null,
            "align_content": null,
            "visibility": null,
            "align_self": null,
            "height": null,
            "min_height": null,
            "padding": null,
            "grid_auto_rows": null,
            "grid_gap": null,
            "max_width": null,
            "order": null,
            "_view_module_version": "1.2.0",
            "grid_template_areas": null,
            "object_position": null,
            "object_fit": null,
            "grid_auto_columns": null,
            "margin": null,
            "display": null,
            "left": null
          }
        },
        "fa0a6d8c406145c0aed162b8ff0fa418": {
          "model_module": "@jupyter-widgets/controls",
          "model_name": "FloatProgressModel",
          "state": {
            "_view_name": "ProgressView",
            "style": "IPY_MODEL_20612494d1ab41bf9d49bd4481df3c65",
            "_dom_classes": [],
            "description": "Downloading: 100%",
            "_model_name": "FloatProgressModel",
            "bar_style": "success",
            "max": 629,
            "_view_module": "@jupyter-widgets/controls",
            "_model_module_version": "1.5.0",
            "value": 629,
            "_view_count": null,
            "_view_module_version": "1.5.0",
            "orientation": "horizontal",
            "min": 0,
            "description_tooltip": null,
            "_model_module": "@jupyter-widgets/controls",
            "layout": "IPY_MODEL_5a209277524d4ec8ac4bf5775bde04b1"
          }
        },
        "7e481bec65cc4035ba0f4f08254c8e4a": {
          "model_module": "@jupyter-widgets/controls",
          "model_name": "HTMLModel",
          "state": {
            "_view_name": "HTMLView",
            "style": "IPY_MODEL_529f095bd0074ad4bc224b2a5b8973b7",
            "_dom_classes": [],
            "description": "",
            "_model_name": "HTMLModel",
            "placeholder": "​",
            "_view_module": "@jupyter-widgets/controls",
            "_model_module_version": "1.5.0",
            "value": " 629/629 [00:07&lt;00:00, 82.3B/s]",
            "_view_count": null,
            "_view_module_version": "1.5.0",
            "description_tooltip": null,
            "_model_module": "@jupyter-widgets/controls",
            "layout": "IPY_MODEL_ccfc33beda9041f49aa93be11b774728"
          }
        },
        "20612494d1ab41bf9d49bd4481df3c65": {
          "model_module": "@jupyter-widgets/controls",
          "model_name": "ProgressStyleModel",
          "state": {
            "_view_name": "StyleView",
            "_model_name": "ProgressStyleModel",
            "description_width": "initial",
            "_view_module": "@jupyter-widgets/base",
            "_model_module_version": "1.5.0",
            "_view_count": null,
            "_view_module_version": "1.2.0",
            "bar_color": null,
            "_model_module": "@jupyter-widgets/controls"
          }
        },
        "5a209277524d4ec8ac4bf5775bde04b1": {
          "model_module": "@jupyter-widgets/base",
          "model_name": "LayoutModel",
          "state": {
            "_view_name": "LayoutView",
            "grid_template_rows": null,
            "right": null,
            "justify_content": null,
            "_view_module": "@jupyter-widgets/base",
            "overflow": null,
            "_model_module_version": "1.2.0",
            "_view_count": null,
            "flex_flow": null,
            "width": null,
            "min_width": null,
            "border": null,
            "align_items": null,
            "bottom": null,
            "_model_module": "@jupyter-widgets/base",
            "top": null,
            "grid_column": null,
            "overflow_y": null,
            "overflow_x": null,
            "grid_auto_flow": null,
            "grid_area": null,
            "grid_template_columns": null,
            "flex": null,
            "_model_name": "LayoutModel",
            "justify_items": null,
            "grid_row": null,
            "max_height": null,
            "align_content": null,
            "visibility": null,
            "align_self": null,
            "height": null,
            "min_height": null,
            "padding": null,
            "grid_auto_rows": null,
            "grid_gap": null,
            "max_width": null,
            "order": null,
            "_view_module_version": "1.2.0",
            "grid_template_areas": null,
            "object_position": null,
            "object_fit": null,
            "grid_auto_columns": null,
            "margin": null,
            "display": null,
            "left": null
          }
        },
        "529f095bd0074ad4bc224b2a5b8973b7": {
          "model_module": "@jupyter-widgets/controls",
          "model_name": "DescriptionStyleModel",
          "state": {
            "_view_name": "StyleView",
            "_model_name": "DescriptionStyleModel",
            "description_width": "",
            "_view_module": "@jupyter-widgets/base",
            "_model_module_version": "1.5.0",
            "_view_count": null,
            "_view_module_version": "1.2.0",
            "_model_module": "@jupyter-widgets/controls"
          }
        },
        "ccfc33beda9041f49aa93be11b774728": {
          "model_module": "@jupyter-widgets/base",
          "model_name": "LayoutModel",
          "state": {
            "_view_name": "LayoutView",
            "grid_template_rows": null,
            "right": null,
            "justify_content": null,
            "_view_module": "@jupyter-widgets/base",
            "overflow": null,
            "_model_module_version": "1.2.0",
            "_view_count": null,
            "flex_flow": null,
            "width": null,
            "min_width": null,
            "border": null,
            "align_items": null,
            "bottom": null,
            "_model_module": "@jupyter-widgets/base",
            "top": null,
            "grid_column": null,
            "overflow_y": null,
            "overflow_x": null,
            "grid_auto_flow": null,
            "grid_area": null,
            "grid_template_columns": null,
            "flex": null,
            "_model_name": "LayoutModel",
            "justify_items": null,
            "grid_row": null,
            "max_height": null,
            "align_content": null,
            "visibility": null,
            "align_self": null,
            "height": null,
            "min_height": null,
            "padding": null,
            "grid_auto_rows": null,
            "grid_gap": null,
            "max_width": null,
            "order": null,
            "_view_module_version": "1.2.0",
            "grid_template_areas": null,
            "object_position": null,
            "object_fit": null,
            "grid_auto_columns": null,
            "margin": null,
            "display": null,
            "left": null
          }
        },
        "f72098cbe2c84881a7b7b7344869a55d": {
          "model_module": "@jupyter-widgets/controls",
          "model_name": "HBoxModel",
          "state": {
            "_view_name": "HBoxView",
            "_dom_classes": [],
            "_model_name": "HBoxModel",
            "_view_module": "@jupyter-widgets/controls",
            "_model_module_version": "1.5.0",
            "_view_count": null,
            "_view_module_version": "1.5.0",
            "box_style": "",
            "layout": "IPY_MODEL_6c0b2f27cd6147baad2624c4bf38c761",
            "_model_module": "@jupyter-widgets/controls",
            "children": [
              "IPY_MODEL_602aa17650fa412c9127449e78767db5",
              "IPY_MODEL_9c45e8cc793e4c0db086007bab1a117b"
            ]
          }
        },
        "6c0b2f27cd6147baad2624c4bf38c761": {
          "model_module": "@jupyter-widgets/base",
          "model_name": "LayoutModel",
          "state": {
            "_view_name": "LayoutView",
            "grid_template_rows": null,
            "right": null,
            "justify_content": null,
            "_view_module": "@jupyter-widgets/base",
            "overflow": null,
            "_model_module_version": "1.2.0",
            "_view_count": null,
            "flex_flow": null,
            "width": null,
            "min_width": null,
            "border": null,
            "align_items": null,
            "bottom": null,
            "_model_module": "@jupyter-widgets/base",
            "top": null,
            "grid_column": null,
            "overflow_y": null,
            "overflow_x": null,
            "grid_auto_flow": null,
            "grid_area": null,
            "grid_template_columns": null,
            "flex": null,
            "_model_name": "LayoutModel",
            "justify_items": null,
            "grid_row": null,
            "max_height": null,
            "align_content": null,
            "visibility": null,
            "align_self": null,
            "height": null,
            "min_height": null,
            "padding": null,
            "grid_auto_rows": null,
            "grid_gap": null,
            "max_width": null,
            "order": null,
            "_view_module_version": "1.2.0",
            "grid_template_areas": null,
            "object_position": null,
            "object_fit": null,
            "grid_auto_columns": null,
            "margin": null,
            "display": null,
            "left": null
          }
        },
        "602aa17650fa412c9127449e78767db5": {
          "model_module": "@jupyter-widgets/controls",
          "model_name": "FloatProgressModel",
          "state": {
            "_view_name": "ProgressView",
            "style": "IPY_MODEL_4ce19b8aff7b48dc91b7bc35521e6782",
            "_dom_classes": [],
            "description": "Downloading: 100%",
            "_model_name": "FloatProgressModel",
            "bar_style": "success",
            "max": 267844284,
            "_view_module": "@jupyter-widgets/controls",
            "_model_module_version": "1.5.0",
            "value": 267844284,
            "_view_count": null,
            "_view_module_version": "1.5.0",
            "orientation": "horizontal",
            "min": 0,
            "description_tooltip": null,
            "_model_module": "@jupyter-widgets/controls",
            "layout": "IPY_MODEL_b1c15c6f438f4ee3835c4050325b72a0"
          }
        },
        "9c45e8cc793e4c0db086007bab1a117b": {
          "model_module": "@jupyter-widgets/controls",
          "model_name": "HTMLModel",
          "state": {
            "_view_name": "HTMLView",
            "style": "IPY_MODEL_c191fb163ecd4ba78fdcf683caad907e",
            "_dom_classes": [],
            "description": "",
            "_model_name": "HTMLModel",
            "placeholder": "​",
            "_view_module": "@jupyter-widgets/controls",
            "_model_module_version": "1.5.0",
            "value": " 268M/268M [00:06&lt;00:00, 43.1MB/s]",
            "_view_count": null,
            "_view_module_version": "1.5.0",
            "description_tooltip": null,
            "_model_module": "@jupyter-widgets/controls",
            "layout": "IPY_MODEL_c0123750709d46658632eb28e641ad46"
          }
        },
        "4ce19b8aff7b48dc91b7bc35521e6782": {
          "model_module": "@jupyter-widgets/controls",
          "model_name": "ProgressStyleModel",
          "state": {
            "_view_name": "StyleView",
            "_model_name": "ProgressStyleModel",
            "description_width": "initial",
            "_view_module": "@jupyter-widgets/base",
            "_model_module_version": "1.5.0",
            "_view_count": null,
            "_view_module_version": "1.2.0",
            "bar_color": null,
            "_model_module": "@jupyter-widgets/controls"
          }
        },
        "b1c15c6f438f4ee3835c4050325b72a0": {
          "model_module": "@jupyter-widgets/base",
          "model_name": "LayoutModel",
          "state": {
            "_view_name": "LayoutView",
            "grid_template_rows": null,
            "right": null,
            "justify_content": null,
            "_view_module": "@jupyter-widgets/base",
            "overflow": null,
            "_model_module_version": "1.2.0",
            "_view_count": null,
            "flex_flow": null,
            "width": null,
            "min_width": null,
            "border": null,
            "align_items": null,
            "bottom": null,
            "_model_module": "@jupyter-widgets/base",
            "top": null,
            "grid_column": null,
            "overflow_y": null,
            "overflow_x": null,
            "grid_auto_flow": null,
            "grid_area": null,
            "grid_template_columns": null,
            "flex": null,
            "_model_name": "LayoutModel",
            "justify_items": null,
            "grid_row": null,
            "max_height": null,
            "align_content": null,
            "visibility": null,
            "align_self": null,
            "height": null,
            "min_height": null,
            "padding": null,
            "grid_auto_rows": null,
            "grid_gap": null,
            "max_width": null,
            "order": null,
            "_view_module_version": "1.2.0",
            "grid_template_areas": null,
            "object_position": null,
            "object_fit": null,
            "grid_auto_columns": null,
            "margin": null,
            "display": null,
            "left": null
          }
        },
        "c191fb163ecd4ba78fdcf683caad907e": {
          "model_module": "@jupyter-widgets/controls",
          "model_name": "DescriptionStyleModel",
          "state": {
            "_view_name": "StyleView",
            "_model_name": "DescriptionStyleModel",
            "description_width": "",
            "_view_module": "@jupyter-widgets/base",
            "_model_module_version": "1.5.0",
            "_view_count": null,
            "_view_module_version": "1.2.0",
            "_model_module": "@jupyter-widgets/controls"
          }
        },
        "c0123750709d46658632eb28e641ad46": {
          "model_module": "@jupyter-widgets/base",
          "model_name": "LayoutModel",
          "state": {
            "_view_name": "LayoutView",
            "grid_template_rows": null,
            "right": null,
            "justify_content": null,
            "_view_module": "@jupyter-widgets/base",
            "overflow": null,
            "_model_module_version": "1.2.0",
            "_view_count": null,
            "flex_flow": null,
            "width": null,
            "min_width": null,
            "border": null,
            "align_items": null,
            "bottom": null,
            "_model_module": "@jupyter-widgets/base",
            "top": null,
            "grid_column": null,
            "overflow_y": null,
            "overflow_x": null,
            "grid_auto_flow": null,
            "grid_area": null,
            "grid_template_columns": null,
            "flex": null,
            "_model_name": "LayoutModel",
            "justify_items": null,
            "grid_row": null,
            "max_height": null,
            "align_content": null,
            "visibility": null,
            "align_self": null,
            "height": null,
            "min_height": null,
            "padding": null,
            "grid_auto_rows": null,
            "grid_gap": null,
            "max_width": null,
            "order": null,
            "_view_module_version": "1.2.0",
            "grid_template_areas": null,
            "object_position": null,
            "object_fit": null,
            "grid_auto_columns": null,
            "margin": null,
            "display": null,
            "left": null
          }
        },
        "deaedd4f2a5e485eaba0035958268b29": {
          "model_module": "@jupyter-widgets/controls",
          "model_name": "HBoxModel",
          "state": {
            "_view_name": "HBoxView",
            "_dom_classes": [],
            "_model_name": "HBoxModel",
            "_view_module": "@jupyter-widgets/controls",
            "_model_module_version": "1.5.0",
            "_view_count": null,
            "_view_module_version": "1.5.0",
            "box_style": "",
            "layout": "IPY_MODEL_571e8df3ee224b34ba5e6a8980960c62",
            "_model_module": "@jupyter-widgets/controls",
            "children": [
              "IPY_MODEL_a45376969fab40898a8c394d7c8b0a04",
              "IPY_MODEL_be5290f65fd54703bdf9c6160c8c5782"
            ]
          }
        },
        "571e8df3ee224b34ba5e6a8980960c62": {
          "model_module": "@jupyter-widgets/base",
          "model_name": "LayoutModel",
          "state": {
            "_view_name": "LayoutView",
            "grid_template_rows": null,
            "right": null,
            "justify_content": null,
            "_view_module": "@jupyter-widgets/base",
            "overflow": null,
            "_model_module_version": "1.2.0",
            "_view_count": null,
            "flex_flow": null,
            "width": null,
            "min_width": null,
            "border": null,
            "align_items": null,
            "bottom": null,
            "_model_module": "@jupyter-widgets/base",
            "top": null,
            "grid_column": null,
            "overflow_y": null,
            "overflow_x": null,
            "grid_auto_flow": null,
            "grid_area": null,
            "grid_template_columns": null,
            "flex": null,
            "_model_name": "LayoutModel",
            "justify_items": null,
            "grid_row": null,
            "max_height": null,
            "align_content": null,
            "visibility": null,
            "align_self": null,
            "height": null,
            "min_height": null,
            "padding": null,
            "grid_auto_rows": null,
            "grid_gap": null,
            "max_width": null,
            "order": null,
            "_view_module_version": "1.2.0",
            "grid_template_areas": null,
            "object_position": null,
            "object_fit": null,
            "grid_auto_columns": null,
            "margin": null,
            "display": null,
            "left": null
          }
        },
        "a45376969fab40898a8c394d7c8b0a04": {
          "model_module": "@jupyter-widgets/controls",
          "model_name": "FloatProgressModel",
          "state": {
            "_view_name": "ProgressView",
            "style": "IPY_MODEL_00de20f3042d46e9bbc9e831d9990796",
            "_dom_classes": [],
            "description": "Downloading: 100%",
            "_model_name": "FloatProgressModel",
            "bar_style": "success",
            "max": 231508,
            "_view_module": "@jupyter-widgets/controls",
            "_model_module_version": "1.5.0",
            "value": 231508,
            "_view_count": null,
            "_view_module_version": "1.5.0",
            "orientation": "horizontal",
            "min": 0,
            "description_tooltip": null,
            "_model_module": "@jupyter-widgets/controls",
            "layout": "IPY_MODEL_b87ccbff080046e2a9f6f21384a5deef"
          }
        },
        "be5290f65fd54703bdf9c6160c8c5782": {
          "model_module": "@jupyter-widgets/controls",
          "model_name": "HTMLModel",
          "state": {
            "_view_name": "HTMLView",
            "style": "IPY_MODEL_0fe4bc5813154060996585eb894ca120",
            "_dom_classes": [],
            "description": "",
            "_model_name": "HTMLModel",
            "placeholder": "​",
            "_view_module": "@jupyter-widgets/controls",
            "_model_module_version": "1.5.0",
            "value": " 232k/232k [00:00&lt;00:00, 1.13MB/s]",
            "_view_count": null,
            "_view_module_version": "1.5.0",
            "description_tooltip": null,
            "_model_module": "@jupyter-widgets/controls",
            "layout": "IPY_MODEL_dd1d701a491e4431a0624d4d62e3f89e"
          }
        },
        "00de20f3042d46e9bbc9e831d9990796": {
          "model_module": "@jupyter-widgets/controls",
          "model_name": "ProgressStyleModel",
          "state": {
            "_view_name": "StyleView",
            "_model_name": "ProgressStyleModel",
            "description_width": "initial",
            "_view_module": "@jupyter-widgets/base",
            "_model_module_version": "1.5.0",
            "_view_count": null,
            "_view_module_version": "1.2.0",
            "bar_color": null,
            "_model_module": "@jupyter-widgets/controls"
          }
        },
        "b87ccbff080046e2a9f6f21384a5deef": {
          "model_module": "@jupyter-widgets/base",
          "model_name": "LayoutModel",
          "state": {
            "_view_name": "LayoutView",
            "grid_template_rows": null,
            "right": null,
            "justify_content": null,
            "_view_module": "@jupyter-widgets/base",
            "overflow": null,
            "_model_module_version": "1.2.0",
            "_view_count": null,
            "flex_flow": null,
            "width": null,
            "min_width": null,
            "border": null,
            "align_items": null,
            "bottom": null,
            "_model_module": "@jupyter-widgets/base",
            "top": null,
            "grid_column": null,
            "overflow_y": null,
            "overflow_x": null,
            "grid_auto_flow": null,
            "grid_area": null,
            "grid_template_columns": null,
            "flex": null,
            "_model_name": "LayoutModel",
            "justify_items": null,
            "grid_row": null,
            "max_height": null,
            "align_content": null,
            "visibility": null,
            "align_self": null,
            "height": null,
            "min_height": null,
            "padding": null,
            "grid_auto_rows": null,
            "grid_gap": null,
            "max_width": null,
            "order": null,
            "_view_module_version": "1.2.0",
            "grid_template_areas": null,
            "object_position": null,
            "object_fit": null,
            "grid_auto_columns": null,
            "margin": null,
            "display": null,
            "left": null
          }
        },
        "0fe4bc5813154060996585eb894ca120": {
          "model_module": "@jupyter-widgets/controls",
          "model_name": "DescriptionStyleModel",
          "state": {
            "_view_name": "StyleView",
            "_model_name": "DescriptionStyleModel",
            "description_width": "",
            "_view_module": "@jupyter-widgets/base",
            "_model_module_version": "1.5.0",
            "_view_count": null,
            "_view_module_version": "1.2.0",
            "_model_module": "@jupyter-widgets/controls"
          }
        },
        "dd1d701a491e4431a0624d4d62e3f89e": {
          "model_module": "@jupyter-widgets/base",
          "model_name": "LayoutModel",
          "state": {
            "_view_name": "LayoutView",
            "grid_template_rows": null,
            "right": null,
            "justify_content": null,
            "_view_module": "@jupyter-widgets/base",
            "overflow": null,
            "_model_module_version": "1.2.0",
            "_view_count": null,
            "flex_flow": null,
            "width": null,
            "min_width": null,
            "border": null,
            "align_items": null,
            "bottom": null,
            "_model_module": "@jupyter-widgets/base",
            "top": null,
            "grid_column": null,
            "overflow_y": null,
            "overflow_x": null,
            "grid_auto_flow": null,
            "grid_area": null,
            "grid_template_columns": null,
            "flex": null,
            "_model_name": "LayoutModel",
            "justify_items": null,
            "grid_row": null,
            "max_height": null,
            "align_content": null,
            "visibility": null,
            "align_self": null,
            "height": null,
            "min_height": null,
            "padding": null,
            "grid_auto_rows": null,
            "grid_gap": null,
            "max_width": null,
            "order": null,
            "_view_module_version": "1.2.0",
            "grid_template_areas": null,
            "object_position": null,
            "object_fit": null,
            "grid_auto_columns": null,
            "margin": null,
            "display": null,
            "left": null
          }
        },
        "25b3a73823744e40863b29d40280a7b1": {
          "model_module": "@jupyter-widgets/controls",
          "model_name": "HBoxModel",
          "state": {
            "_view_name": "HBoxView",
            "_dom_classes": [],
            "_model_name": "HBoxModel",
            "_view_module": "@jupyter-widgets/controls",
            "_model_module_version": "1.5.0",
            "_view_count": null,
            "_view_module_version": "1.5.0",
            "box_style": "",
            "layout": "IPY_MODEL_99d54010ebdc48c6b0f23c09b1296c25",
            "_model_module": "@jupyter-widgets/controls",
            "children": [
              "IPY_MODEL_ddf7ca63352245a99a5a1e29bb1d6f37",
              "IPY_MODEL_b460201cc99d457a9c726703fe958c70"
            ]
          }
        },
        "99d54010ebdc48c6b0f23c09b1296c25": {
          "model_module": "@jupyter-widgets/base",
          "model_name": "LayoutModel",
          "state": {
            "_view_name": "LayoutView",
            "grid_template_rows": null,
            "right": null,
            "justify_content": null,
            "_view_module": "@jupyter-widgets/base",
            "overflow": null,
            "_model_module_version": "1.2.0",
            "_view_count": null,
            "flex_flow": null,
            "width": null,
            "min_width": null,
            "border": null,
            "align_items": null,
            "bottom": null,
            "_model_module": "@jupyter-widgets/base",
            "top": null,
            "grid_column": null,
            "overflow_y": null,
            "overflow_x": null,
            "grid_auto_flow": null,
            "grid_area": null,
            "grid_template_columns": null,
            "flex": null,
            "_model_name": "LayoutModel",
            "justify_items": null,
            "grid_row": null,
            "max_height": null,
            "align_content": null,
            "visibility": null,
            "align_self": null,
            "height": null,
            "min_height": null,
            "padding": null,
            "grid_auto_rows": null,
            "grid_gap": null,
            "max_width": null,
            "order": null,
            "_view_module_version": "1.2.0",
            "grid_template_areas": null,
            "object_position": null,
            "object_fit": null,
            "grid_auto_columns": null,
            "margin": null,
            "display": null,
            "left": null
          }
        },
        "ddf7ca63352245a99a5a1e29bb1d6f37": {
          "model_module": "@jupyter-widgets/controls",
          "model_name": "FloatProgressModel",
          "state": {
            "_view_name": "ProgressView",
            "style": "IPY_MODEL_f845392e7368455a8a85f0d0338eae82",
            "_dom_classes": [],
            "description": "Downloading: 100%",
            "_model_name": "FloatProgressModel",
            "bar_style": "success",
            "max": 48,
            "_view_module": "@jupyter-widgets/controls",
            "_model_module_version": "1.5.0",
            "value": 48,
            "_view_count": null,
            "_view_module_version": "1.5.0",
            "orientation": "horizontal",
            "min": 0,
            "description_tooltip": null,
            "_model_module": "@jupyter-widgets/controls",
            "layout": "IPY_MODEL_b867ef7740f4413c8a3976acb295238c"
          }
        },
        "b460201cc99d457a9c726703fe958c70": {
          "model_module": "@jupyter-widgets/controls",
          "model_name": "HTMLModel",
          "state": {
            "_view_name": "HTMLView",
            "style": "IPY_MODEL_2c3aecee8a5c43998b68543ae4e23ac9",
            "_dom_classes": [],
            "description": "",
            "_model_name": "HTMLModel",
            "placeholder": "​",
            "_view_module": "@jupyter-widgets/controls",
            "_model_module_version": "1.5.0",
            "value": " 48.0/48.0 [00:00&lt;00:00, 665B/s]",
            "_view_count": null,
            "_view_module_version": "1.5.0",
            "description_tooltip": null,
            "_model_module": "@jupyter-widgets/controls",
            "layout": "IPY_MODEL_4f2c05d51e31456ba16229a2afc9bbef"
          }
        },
        "f845392e7368455a8a85f0d0338eae82": {
          "model_module": "@jupyter-widgets/controls",
          "model_name": "ProgressStyleModel",
          "state": {
            "_view_name": "StyleView",
            "_model_name": "ProgressStyleModel",
            "description_width": "initial",
            "_view_module": "@jupyter-widgets/base",
            "_model_module_version": "1.5.0",
            "_view_count": null,
            "_view_module_version": "1.2.0",
            "bar_color": null,
            "_model_module": "@jupyter-widgets/controls"
          }
        },
        "b867ef7740f4413c8a3976acb295238c": {
          "model_module": "@jupyter-widgets/base",
          "model_name": "LayoutModel",
          "state": {
            "_view_name": "LayoutView",
            "grid_template_rows": null,
            "right": null,
            "justify_content": null,
            "_view_module": "@jupyter-widgets/base",
            "overflow": null,
            "_model_module_version": "1.2.0",
            "_view_count": null,
            "flex_flow": null,
            "width": null,
            "min_width": null,
            "border": null,
            "align_items": null,
            "bottom": null,
            "_model_module": "@jupyter-widgets/base",
            "top": null,
            "grid_column": null,
            "overflow_y": null,
            "overflow_x": null,
            "grid_auto_flow": null,
            "grid_area": null,
            "grid_template_columns": null,
            "flex": null,
            "_model_name": "LayoutModel",
            "justify_items": null,
            "grid_row": null,
            "max_height": null,
            "align_content": null,
            "visibility": null,
            "align_self": null,
            "height": null,
            "min_height": null,
            "padding": null,
            "grid_auto_rows": null,
            "grid_gap": null,
            "max_width": null,
            "order": null,
            "_view_module_version": "1.2.0",
            "grid_template_areas": null,
            "object_position": null,
            "object_fit": null,
            "grid_auto_columns": null,
            "margin": null,
            "display": null,
            "left": null
          }
        },
        "2c3aecee8a5c43998b68543ae4e23ac9": {
          "model_module": "@jupyter-widgets/controls",
          "model_name": "DescriptionStyleModel",
          "state": {
            "_view_name": "StyleView",
            "_model_name": "DescriptionStyleModel",
            "description_width": "",
            "_view_module": "@jupyter-widgets/base",
            "_model_module_version": "1.5.0",
            "_view_count": null,
            "_view_module_version": "1.2.0",
            "_model_module": "@jupyter-widgets/controls"
          }
        },
        "4f2c05d51e31456ba16229a2afc9bbef": {
          "model_module": "@jupyter-widgets/base",
          "model_name": "LayoutModel",
          "state": {
            "_view_name": "LayoutView",
            "grid_template_rows": null,
            "right": null,
            "justify_content": null,
            "_view_module": "@jupyter-widgets/base",
            "overflow": null,
            "_model_module_version": "1.2.0",
            "_view_count": null,
            "flex_flow": null,
            "width": null,
            "min_width": null,
            "border": null,
            "align_items": null,
            "bottom": null,
            "_model_module": "@jupyter-widgets/base",
            "top": null,
            "grid_column": null,
            "overflow_y": null,
            "overflow_x": null,
            "grid_auto_flow": null,
            "grid_area": null,
            "grid_template_columns": null,
            "flex": null,
            "_model_name": "LayoutModel",
            "justify_items": null,
            "grid_row": null,
            "max_height": null,
            "align_content": null,
            "visibility": null,
            "align_self": null,
            "height": null,
            "min_height": null,
            "padding": null,
            "grid_auto_rows": null,
            "grid_gap": null,
            "max_width": null,
            "order": null,
            "_view_module_version": "1.2.0",
            "grid_template_areas": null,
            "object_position": null,
            "object_fit": null,
            "grid_auto_columns": null,
            "margin": null,
            "display": null,
            "left": null
          }
        },
        "99fc4e53186f495dbff0f8c8cffbb721": {
          "model_module": "@jupyter-widgets/controls",
          "model_name": "DropdownModel",
          "state": {
            "_options_labels": [
              "sentiment-analysis"
            ],
            "_view_name": "DropdownView",
            "style": "IPY_MODEL_115ddaccc82a41c0a56a85f7b91580fa",
            "_dom_classes": [],
            "description": "Task:",
            "_model_name": "DropdownModel",
            "index": 0,
            "_view_module": "@jupyter-widgets/controls",
            "_model_module_version": "1.5.0",
            "_view_count": null,
            "disabled": false,
            "_view_module_version": "1.5.0",
            "description_tooltip": null,
            "_model_module": "@jupyter-widgets/controls",
            "layout": "IPY_MODEL_2c898244c9984eec9e04962217267ceb"
          }
        },
        "115ddaccc82a41c0a56a85f7b91580fa": {
          "model_module": "@jupyter-widgets/controls",
          "model_name": "DescriptionStyleModel",
          "state": {
            "_view_name": "StyleView",
            "_model_name": "DescriptionStyleModel",
            "description_width": "",
            "_view_module": "@jupyter-widgets/base",
            "_model_module_version": "1.5.0",
            "_view_count": null,
            "_view_module_version": "1.2.0",
            "_model_module": "@jupyter-widgets/controls"
          }
        },
        "2c898244c9984eec9e04962217267ceb": {
          "model_module": "@jupyter-widgets/base",
          "model_name": "LayoutModel",
          "state": {
            "_view_name": "LayoutView",
            "grid_template_rows": null,
            "right": null,
            "justify_content": null,
            "_view_module": "@jupyter-widgets/base",
            "overflow": null,
            "_model_module_version": "1.2.0",
            "_view_count": null,
            "flex_flow": null,
            "width": null,
            "min_width": null,
            "border": null,
            "align_items": null,
            "bottom": null,
            "_model_module": "@jupyter-widgets/base",
            "top": null,
            "grid_column": null,
            "overflow_y": null,
            "overflow_x": null,
            "grid_auto_flow": null,
            "grid_area": null,
            "grid_template_columns": null,
            "flex": null,
            "_model_name": "LayoutModel",
            "justify_items": null,
            "grid_row": null,
            "max_height": null,
            "align_content": null,
            "visibility": null,
            "align_self": null,
            "height": null,
            "min_height": null,
            "padding": null,
            "grid_auto_rows": null,
            "grid_gap": null,
            "max_width": null,
            "order": null,
            "_view_module_version": "1.2.0",
            "grid_template_areas": null,
            "object_position": null,
            "object_fit": null,
            "grid_auto_columns": null,
            "margin": null,
            "display": null,
            "left": null
          }
        },
        "c63fae5e86c04cd39752943a87fdc5d6": {
          "model_module": "@jupyter-widgets/controls",
          "model_name": "TextModel",
          "state": {
            "_view_name": "TextView",
            "style": "IPY_MODEL_c0c4edd202484744807b4e0f9da9460f",
            "_dom_classes": [],
            "description": "Your input:",
            "_model_name": "TextModel",
            "placeholder": "Enter something",
            "_view_module": "@jupyter-widgets/controls",
            "_model_module_version": "1.5.0",
            "value": "I like this!",
            "_view_count": null,
            "disabled": false,
            "_view_module_version": "1.5.0",
            "continuous_update": true,
            "description_tooltip": null,
            "_model_module": "@jupyter-widgets/controls",
            "layout": "IPY_MODEL_ff0598a024de4271832234141d29464f"
          }
        },
        "c0c4edd202484744807b4e0f9da9460f": {
          "model_module": "@jupyter-widgets/controls",
          "model_name": "DescriptionStyleModel",
          "state": {
            "_view_name": "StyleView",
            "_model_name": "DescriptionStyleModel",
            "description_width": "",
            "_view_module": "@jupyter-widgets/base",
            "_model_module_version": "1.5.0",
            "_view_count": null,
            "_view_module_version": "1.2.0",
            "_model_module": "@jupyter-widgets/controls"
          }
        },
        "ff0598a024de4271832234141d29464f": {
          "model_module": "@jupyter-widgets/base",
          "model_name": "LayoutModel",
          "state": {
            "_view_name": "LayoutView",
            "grid_template_rows": null,
            "right": null,
            "justify_content": null,
            "_view_module": "@jupyter-widgets/base",
            "overflow": null,
            "_model_module_version": "1.2.0",
            "_view_count": null,
            "flex_flow": null,
            "width": null,
            "min_width": null,
            "border": null,
            "align_items": null,
            "bottom": null,
            "_model_module": "@jupyter-widgets/base",
            "top": null,
            "grid_column": null,
            "overflow_y": null,
            "overflow_x": null,
            "grid_auto_flow": null,
            "grid_area": null,
            "grid_template_columns": null,
            "flex": null,
            "_model_name": "LayoutModel",
            "justify_items": null,
            "grid_row": null,
            "max_height": null,
            "align_content": null,
            "visibility": null,
            "align_self": null,
            "height": null,
            "min_height": null,
            "padding": null,
            "grid_auto_rows": null,
            "grid_gap": null,
            "max_width": null,
            "order": null,
            "_view_module_version": "1.2.0",
            "grid_template_areas": null,
            "object_position": null,
            "object_fit": null,
            "grid_auto_columns": null,
            "margin": null,
            "display": null,
            "left": null
          }
        }
      }
    }
  },
  "cells": [
    {
      "cell_type": "markdown",
      "metadata": {
        "id": "x5GzJLLszLQC"
      },
      "source": [
        "# This project was used to perform Sentiment Analysis on customer feedback"
      ]
    },
    {
      "cell_type": "markdown",
      "metadata": {
        "id": "i1NoFqou3rRV"
      },
      "source": [
        "Note that the project used data that is not available for public use so the results obtained if this is re-run with dummy data may be different. "
      ]
    },
    {
      "cell_type": "markdown",
      "metadata": {
        "id": "nGC4Uf9o7VUA"
      },
      "source": [
        "The following code is used for a point in time analysis. The real power of sentiment analysis is to track how it changes over time. Re-use this code for follow up assessments to see if the changes you made in your product/services had the desired impact."
      ]
    },
    {
      "cell_type": "markdown",
      "metadata": {
        "id": "XjxWsOz4zLQI"
      },
      "source": [
        "## Load Packages"
      ]
    },
    {
      "cell_type": "code",
      "metadata": {
        "colab": {
          "base_uri": "https://localhost:8080/"
        },
        "id": "E5KziL7izo4m",
        "outputId": "1a12291a-ac15-4c45-e5ac-967f6567ef27"
      },
      "source": [
        "from google.colab import drive\n",
        "drive.mount('/content/drive')"
      ],
      "execution_count": 1,
      "outputs": [
        {
          "output_type": "stream",
          "text": [
            "Mounted at /content/drive\n"
          ],
          "name": "stdout"
        }
      ]
    },
    {
      "cell_type": "code",
      "metadata": {
        "colab": {
          "base_uri": "https://localhost:8080/"
        },
        "id": "q9Hi1HqbzLQI",
        "outputId": "b7900b69-025a-4141-e914-e267fbc08585"
      },
      "source": [
        "!pip install transformers"
      ],
      "execution_count": 2,
      "outputs": [
        {
          "output_type": "stream",
          "text": [
            "Collecting transformers\n",
            "\u001b[?25l  Downloading https://files.pythonhosted.org/packages/ed/d5/f4157a376b8a79489a76ce6cfe147f4f3be1e029b7144fa7b8432e8acb26/transformers-4.4.2-py3-none-any.whl (2.0MB)\n",
            "\u001b[K     |████████████████████████████████| 2.0MB 16.1MB/s \n",
            "\u001b[?25hRequirement already satisfied: tqdm>=4.27 in /usr/local/lib/python3.7/dist-packages (from transformers) (4.41.1)\n",
            "Collecting sacremoses\n",
            "\u001b[?25l  Downloading https://files.pythonhosted.org/packages/7d/34/09d19aff26edcc8eb2a01bed8e98f13a1537005d31e95233fd48216eed10/sacremoses-0.0.43.tar.gz (883kB)\n",
            "\u001b[K     |████████████████████████████████| 890kB 53.3MB/s \n",
            "\u001b[?25hRequirement already satisfied: packaging in /usr/local/lib/python3.7/dist-packages (from transformers) (20.9)\n",
            "Collecting tokenizers<0.11,>=0.10.1\n",
            "\u001b[?25l  Downloading https://files.pythonhosted.org/packages/71/23/2ddc317b2121117bf34dd00f5b0de194158f2a44ee2bf5e47c7166878a97/tokenizers-0.10.1-cp37-cp37m-manylinux2010_x86_64.whl (3.2MB)\n",
            "\u001b[K     |████████████████████████████████| 3.2MB 38.4MB/s \n",
            "\u001b[?25hRequirement already satisfied: requests in /usr/local/lib/python3.7/dist-packages (from transformers) (2.23.0)\n",
            "Requirement already satisfied: numpy>=1.17 in /usr/local/lib/python3.7/dist-packages (from transformers) (1.19.5)\n",
            "Requirement already satisfied: importlib-metadata; python_version < \"3.8\" in /usr/local/lib/python3.7/dist-packages (from transformers) (3.7.2)\n",
            "Requirement already satisfied: filelock in /usr/local/lib/python3.7/dist-packages (from transformers) (3.0.12)\n",
            "Requirement already satisfied: regex!=2019.12.17 in /usr/local/lib/python3.7/dist-packages (from transformers) (2019.12.20)\n",
            "Requirement already satisfied: six in /usr/local/lib/python3.7/dist-packages (from sacremoses->transformers) (1.15.0)\n",
            "Requirement already satisfied: click in /usr/local/lib/python3.7/dist-packages (from sacremoses->transformers) (7.1.2)\n",
            "Requirement already satisfied: joblib in /usr/local/lib/python3.7/dist-packages (from sacremoses->transformers) (1.0.1)\n",
            "Requirement already satisfied: pyparsing>=2.0.2 in /usr/local/lib/python3.7/dist-packages (from packaging->transformers) (2.4.7)\n",
            "Requirement already satisfied: chardet<4,>=3.0.2 in /usr/local/lib/python3.7/dist-packages (from requests->transformers) (3.0.4)\n",
            "Requirement already satisfied: urllib3!=1.25.0,!=1.25.1,<1.26,>=1.21.1 in /usr/local/lib/python3.7/dist-packages (from requests->transformers) (1.24.3)\n",
            "Requirement already satisfied: idna<3,>=2.5 in /usr/local/lib/python3.7/dist-packages (from requests->transformers) (2.10)\n",
            "Requirement already satisfied: certifi>=2017.4.17 in /usr/local/lib/python3.7/dist-packages (from requests->transformers) (2020.12.5)\n",
            "Requirement already satisfied: zipp>=0.5 in /usr/local/lib/python3.7/dist-packages (from importlib-metadata; python_version < \"3.8\"->transformers) (3.4.1)\n",
            "Requirement already satisfied: typing-extensions>=3.6.4; python_version < \"3.8\" in /usr/local/lib/python3.7/dist-packages (from importlib-metadata; python_version < \"3.8\"->transformers) (3.7.4.3)\n",
            "Building wheels for collected packages: sacremoses\n",
            "  Building wheel for sacremoses (setup.py) ... \u001b[?25l\u001b[?25hdone\n",
            "  Created wheel for sacremoses: filename=sacremoses-0.0.43-cp37-none-any.whl size=893262 sha256=43b2dfc8ba0428234262a29469c5218c80b351ccb8e79c7911409b3c03d3f376\n",
            "  Stored in directory: /root/.cache/pip/wheels/29/3c/fd/7ce5c3f0666dab31a50123635e6fb5e19ceb42ce38d4e58f45\n",
            "Successfully built sacremoses\n",
            "Installing collected packages: sacremoses, tokenizers, transformers\n",
            "Successfully installed sacremoses-0.0.43 tokenizers-0.10.1 transformers-4.4.2\n"
          ],
          "name": "stdout"
        }
      ]
    },
    {
      "cell_type": "code",
      "metadata": {
        "colab": {
          "base_uri": "https://localhost:8080/"
        },
        "id": "S6Sp4fbozLQJ",
        "outputId": "bfba3fc8-b414-4fb9-f4da-59c3b29e1783"
      },
      "source": [
        "import numpy as np \n",
        "\n",
        "import pandas as pd \n",
        "\n",
        "import string\n",
        "\n",
        "import nltk \n",
        "nltk.download('stopwords')\n",
        "\n",
        "import matplotlib.pyplot as plt\n",
        "\n",
        "import seaborn as sns\n",
        "\n",
        "from sklearn.feature_extraction.text import TfidfVectorizer\n",
        "\n",
        "from sklearn.ensemble import RandomForestClassifier\n",
        "\n",
        "from transformers import pipeline\n",
        "\n",
        "from sklearn.metrics import classification_report\n",
        "\n",
        "from sklearn.metrics import matthews_corrcoef\n",
        "\n",
        "from sklearn.metrics import confusion_matrix\n",
        "\n",
        "import ipywidgets as widgets"
      ],
      "execution_count": 3,
      "outputs": [
        {
          "output_type": "stream",
          "text": [
            "[nltk_data] Downloading package stopwords to /root/nltk_data...\n",
            "[nltk_data]   Unzipping corpora/stopwords.zip.\n"
          ],
          "name": "stdout"
        }
      ]
    },
    {
      "cell_type": "markdown",
      "metadata": {
        "id": "Ih0HGFqMzLQK"
      },
      "source": [
        "## Import Data"
      ]
    },
    {
      "cell_type": "code",
      "metadata": {
        "colab": {
          "base_uri": "https://localhost:8080/",
          "height": 195
        },
        "id": "GTGruhASzLQK",
        "outputId": "a5d02ffc-d150-4b56-fa22-1781ba9364bb"
      },
      "source": [
        "#data_dir='C:/Users/stace/data_bootcamp/Final project/Models/BERT_binary_text_classification - actual/data.csv'\n",
        "data_dir = '/content/drive/MyDrive/Colab Notebooks/data.csv'\n",
        "\n",
        "df = pd.read_csv(data_dir, header=0)\n",
        "df.columns = ['Brand','Text','Sentiment_True']\n",
        "df = df[df.Brand !='A/B']\n",
        "\n",
        "df.head()"
      ],
      "execution_count": 4,
      "outputs": [
        {
          "output_type": "execute_result",
          "data": {
            "text/html": [
              "<div>\n",
              "<style scoped>\n",
              "    .dataframe tbody tr th:only-of-type {\n",
              "        vertical-align: middle;\n",
              "    }\n",
              "\n",
              "    .dataframe tbody tr th {\n",
              "        vertical-align: top;\n",
              "    }\n",
              "\n",
              "    .dataframe thead th {\n",
              "        text-align: right;\n",
              "    }\n",
              "</style>\n",
              "<table border=\"1\" class=\"dataframe\">\n",
              "  <thead>\n",
              "    <tr style=\"text-align: right;\">\n",
              "      <th></th>\n",
              "      <th>Brand</th>\n",
              "      <th>Text</th>\n",
              "      <th>Sentiment_True</th>\n",
              "    </tr>\n",
              "  </thead>\n",
              "  <tbody>\n",
              "    <tr>\n",
              "      <th>0</th>\n",
              "      <td>A</td>\n",
              "      <td>One of the other reviewers has mentioned that ...</td>\n",
              "      <td>1</td>\n",
              "    </tr>\n",
              "    <tr>\n",
              "      <th>1</th>\n",
              "      <td>A</td>\n",
              "      <td>A wonderful little production.  The filming te...</td>\n",
              "      <td>1</td>\n",
              "    </tr>\n",
              "    <tr>\n",
              "      <th>2</th>\n",
              "      <td>A</td>\n",
              "      <td>I thought this was a wonderful way to spend ti...</td>\n",
              "      <td>1</td>\n",
              "    </tr>\n",
              "    <tr>\n",
              "      <th>3</th>\n",
              "      <td>A</td>\n",
              "      <td>Basically there's a family where a little boy ...</td>\n",
              "      <td>0</td>\n",
              "    </tr>\n",
              "    <tr>\n",
              "      <th>4</th>\n",
              "      <td>A</td>\n",
              "      <td>Petter Mattei's \"Love in the Time of Money\" is...</td>\n",
              "      <td>1</td>\n",
              "    </tr>\n",
              "  </tbody>\n",
              "</table>\n",
              "</div>"
            ],
            "text/plain": [
              "  Brand                                               Text  Sentiment_True\n",
              "0     A  One of the other reviewers has mentioned that ...               1\n",
              "1     A  A wonderful little production.  The filming te...               1\n",
              "2     A  I thought this was a wonderful way to spend ti...               1\n",
              "3     A  Basically there's a family where a little boy ...               0\n",
              "4     A  Petter Mattei's \"Love in the Time of Money\" is...               1"
            ]
          },
          "metadata": {
            "tags": []
          },
          "execution_count": 4
        }
      ]
    },
    {
      "cell_type": "markdown",
      "metadata": {
        "id": "fhM3oIc8zLQK"
      },
      "source": [
        "### Explore Data"
      ]
    },
    {
      "cell_type": "code",
      "metadata": {
        "colab": {
          "base_uri": "https://localhost:8080/",
          "height": 195
        },
        "id": "8pn3x24jzLQK",
        "outputId": "eb233bdc-fb15-46da-8e7c-6472375c05d1"
      },
      "source": [
        "df.groupby(['Sentiment_True','Brand']).count()"
      ],
      "execution_count": 5,
      "outputs": [
        {
          "output_type": "execute_result",
          "data": {
            "text/html": [
              "<div>\n",
              "<style scoped>\n",
              "    .dataframe tbody tr th:only-of-type {\n",
              "        vertical-align: middle;\n",
              "    }\n",
              "\n",
              "    .dataframe tbody tr th {\n",
              "        vertical-align: top;\n",
              "    }\n",
              "\n",
              "    .dataframe thead th {\n",
              "        text-align: right;\n",
              "    }\n",
              "</style>\n",
              "<table border=\"1\" class=\"dataframe\">\n",
              "  <thead>\n",
              "    <tr style=\"text-align: right;\">\n",
              "      <th></th>\n",
              "      <th></th>\n",
              "      <th>Text</th>\n",
              "    </tr>\n",
              "    <tr>\n",
              "      <th>Sentiment_True</th>\n",
              "      <th>Brand</th>\n",
              "      <th></th>\n",
              "    </tr>\n",
              "  </thead>\n",
              "  <tbody>\n",
              "    <tr>\n",
              "      <th rowspan=\"2\" valign=\"top\">0</th>\n",
              "      <th>A</th>\n",
              "      <td>75</td>\n",
              "    </tr>\n",
              "    <tr>\n",
              "      <th>B</th>\n",
              "      <td>62</td>\n",
              "    </tr>\n",
              "    <tr>\n",
              "      <th rowspan=\"2\" valign=\"top\">1</th>\n",
              "      <th>A</th>\n",
              "      <td>55</td>\n",
              "    </tr>\n",
              "    <tr>\n",
              "      <th>B</th>\n",
              "      <td>63</td>\n",
              "    </tr>\n",
              "  </tbody>\n",
              "</table>\n",
              "</div>"
            ],
            "text/plain": [
              "                      Text\n",
              "Sentiment_True Brand      \n",
              "0              A        75\n",
              "               B        62\n",
              "1              A        55\n",
              "               B        63"
            ]
          },
          "metadata": {
            "tags": []
          },
          "execution_count": 5
        }
      ]
    },
    {
      "cell_type": "code",
      "metadata": {
        "colab": {
          "base_uri": "https://localhost:8080/",
          "height": 350
        },
        "id": "A6hsRrSjzLQL",
        "outputId": "c1c16dd3-0c95-492c-a39a-d64000bb70a7"
      },
      "source": [
        "data = {'Negative':165, 'Positive':90}\n",
        "courses = list(data.keys())\n",
        "values = list(data.values())\n",
        "  \n",
        "fig = plt.figure(figsize = (10, 5))\n",
        "plt.bar(courses, values, color ='blue',\n",
        "        width = 0.4)\n",
        " \n",
        "plt.xlabel(\"Sentiment\")\n",
        "plt.ylabel(\"No. of statements\")\n",
        "plt.title(\"Sentiment Data Spread\")\n",
        "plt.show()"
      ],
      "execution_count": 6,
      "outputs": [
        {
          "output_type": "display_data",
          "data": {
            "image/png": "[encoded data removed]",
            "text/plain": [
              "<Figure size 720x360 with 1 Axes>"
            ]
          },
          "metadata": {
            "tags": [],
            "needs_background": "light"
          }
        }
      ]
    },
    {
      "cell_type": "markdown",
      "metadata": {
        "id": "okT9hjkBzLQL"
      },
      "source": [
        "## Set Up Data"
      ]
    },
    {
      "cell_type": "code",
      "metadata": {
        "id": "fn3dfWKQzLQL"
      },
      "source": [
        "features = df.Text\n",
        "labels = df.Sentiment_True\n",
        "features = np.asarray(features)\n",
        "labels = np.asarray(labels)"
      ],
      "execution_count": 7,
      "outputs": []
    },
    {
      "cell_type": "markdown",
      "metadata": {
        "id": "gEVJ6-4yzLQL"
      },
      "source": [
        "## Process the Data"
      ]
    },
    {
      "cell_type": "code",
      "metadata": {
        "id": "4jfHPtJszLQL"
      },
      "source": [
        "processed_features = []\n",
        "\n",
        "for sentence in range(0, len(features)):\n",
        "    #print(sentence)\n",
        "    # Remove all the special characters\n",
        "    # remove all single characters\n",
        "    # Substituting multiple spaces with single space\n",
        "    # Converting to Lowercase\n",
        "    features[sentence] = \"\".join([char for char in features[sentence] if char not in string.punctuation])\n",
        "    features[sentence] = ' '.join([w for w in features[sentence].split() if len(w)>1])\n",
        "    features[sentence] = ' '.join(features[sentence].split())\n",
        "    features[sentence] = features[sentence].lower()\n",
        "    processed_features.append(features[sentence])"
      ],
      "execution_count": 8,
      "outputs": []
    },
    {
      "cell_type": "code",
      "metadata": {
        "id": "j_HpbJ24zLQM"
      },
      "source": [
        "stopwords = nltk.corpus.stopwords.words('english')"
      ],
      "execution_count": 9,
      "outputs": []
    },
    {
      "cell_type": "code",
      "metadata": {
        "id": "u86MlhtEzLQM"
      },
      "source": [
        "vectorizer = TfidfVectorizer(stop_words=stopwords)"
      ],
      "execution_count": 10,
      "outputs": []
    },
    {
      "cell_type": "code",
      "metadata": {
        "id": "UY515fVbzLQM"
      },
      "source": [
        "X = vectorizer.fit_transform(processed_features)\n",
        "X = X.toarray()"
      ],
      "execution_count": 11,
      "outputs": []
    },
    {
      "cell_type": "code",
      "metadata": {
        "id": "IKxanDeizLQM"
      },
      "source": [
        "from sklearn.model_selection import train_test_split\n",
        "X_train, X_test, y_train, y_test = train_test_split(X, labels, test_size=0.30, random_state=42)"
      ],
      "execution_count": 12,
      "outputs": []
    },
    {
      "cell_type": "markdown",
      "metadata": {
        "id": "KNMhMaD2zLQM"
      },
      "source": [
        "# Models"
      ]
    },
    {
      "cell_type": "markdown",
      "metadata": {
        "id": "B5wek7R7zLQN"
      },
      "source": [
        "## Random Forest Classifer"
      ]
    },
    {
      "cell_type": "code",
      "metadata": {
        "id": "fP6HfcAMzLQN"
      },
      "source": [
        "# Run a quick RF model to have something to compare DistilBERT against\n",
        "\n",
        "nb = RandomForestClassifier()\n",
        "nb.fit(X_train,y_train)\n",
        "y_pred = nb.predict(X_test)\n",
        "y_pred_proba = nb.predict_proba(X_test)"
      ],
      "execution_count": 13,
      "outputs": []
    },
    {
      "cell_type": "code",
      "metadata": {
        "colab": {
          "base_uri": "https://localhost:8080/",
          "height": 195
        },
        "id": "C-mh0rynzLQN",
        "outputId": "540842b6-e500-4ac3-9881-c0161e6a7e22"
      },
      "source": [
        "df1 = pd.DataFrame()\n",
        "df1['True_Sentiment'] = y_test\n",
        "df1['Predicted_Sentiment'] = y_pred\n",
        "df1['Predicted_Sentiment_Probability_0'] = y_pred_proba[:,0]\n",
        "df1['Predicted_Sentiment_Probability_1'] = y_pred_proba[:,1]\n",
        "\n",
        "df1.head()"
      ],
      "execution_count": 14,
      "outputs": [
        {
          "output_type": "execute_result",
          "data": {
            "text/html": [
              "<div>\n",
              "<style scoped>\n",
              "    .dataframe tbody tr th:only-of-type {\n",
              "        vertical-align: middle;\n",
              "    }\n",
              "\n",
              "    .dataframe tbody tr th {\n",
              "        vertical-align: top;\n",
              "    }\n",
              "\n",
              "    .dataframe thead th {\n",
              "        text-align: right;\n",
              "    }\n",
              "</style>\n",
              "<table border=\"1\" class=\"dataframe\">\n",
              "  <thead>\n",
              "    <tr style=\"text-align: right;\">\n",
              "      <th></th>\n",
              "      <th>True_Sentiment</th>\n",
              "      <th>Predicted_Sentiment</th>\n",
              "      <th>Predicted_Sentiment_Probability_0</th>\n",
              "      <th>Predicted_Sentiment_Probability_1</th>\n",
              "    </tr>\n",
              "  </thead>\n",
              "  <tbody>\n",
              "    <tr>\n",
              "      <th>0</th>\n",
              "      <td>0</td>\n",
              "      <td>0</td>\n",
              "      <td>0.54</td>\n",
              "      <td>0.46</td>\n",
              "    </tr>\n",
              "    <tr>\n",
              "      <th>1</th>\n",
              "      <td>0</td>\n",
              "      <td>0</td>\n",
              "      <td>0.55</td>\n",
              "      <td>0.45</td>\n",
              "    </tr>\n",
              "    <tr>\n",
              "      <th>2</th>\n",
              "      <td>1</td>\n",
              "      <td>0</td>\n",
              "      <td>0.64</td>\n",
              "      <td>0.36</td>\n",
              "    </tr>\n",
              "    <tr>\n",
              "      <th>3</th>\n",
              "      <td>1</td>\n",
              "      <td>0</td>\n",
              "      <td>0.74</td>\n",
              "      <td>0.26</td>\n",
              "    </tr>\n",
              "    <tr>\n",
              "      <th>4</th>\n",
              "      <td>1</td>\n",
              "      <td>1</td>\n",
              "      <td>0.39</td>\n",
              "      <td>0.61</td>\n",
              "    </tr>\n",
              "  </tbody>\n",
              "</table>\n",
              "</div>"
            ],
            "text/plain": [
              "   True_Sentiment  ...  Predicted_Sentiment_Probability_1\n",
              "0               0  ...                               0.46\n",
              "1               0  ...                               0.45\n",
              "2               1  ...                               0.36\n",
              "3               1  ...                               0.26\n",
              "4               1  ...                               0.61\n",
              "\n",
              "[5 rows x 4 columns]"
            ]
          },
          "metadata": {
            "tags": []
          },
          "execution_count": 14
        }
      ]
    },
    {
      "cell_type": "markdown",
      "metadata": {
        "id": "KRfPK89GzLQN"
      },
      "source": [
        "### Evaluate"
      ]
    },
    {
      "cell_type": "code",
      "metadata": {
        "colab": {
          "base_uri": "https://localhost:8080/"
        },
        "id": "I8K8F4qfzLQN",
        "outputId": "3c22b8ec-a4a3-4b1f-ca98-91838ae1d89c"
      },
      "source": [
        "# Classification Report\n",
        "\n",
        "target_names = ['Negative', 'Positive']\n",
        "print(classification_report(y_test, y_pred, target_names=target_names))"
      ],
      "execution_count": 15,
      "outputs": [
        {
          "output_type": "stream",
          "text": [
            "              precision    recall  f1-score   support\n",
            "\n",
            "    Negative       0.61      0.87      0.72        47\n",
            "    Positive       0.45      0.16      0.24        31\n",
            "\n",
            "    accuracy                           0.59        78\n",
            "   macro avg       0.53      0.52      0.48        78\n",
            "weighted avg       0.55      0.59      0.53        78\n",
            "\n"
          ],
          "name": "stdout"
        }
      ]
    },
    {
      "cell_type": "code",
      "metadata": {
        "colab": {
          "base_uri": "https://localhost:8080/"
        },
        "id": "pFmtj46CzLQN",
        "outputId": "9c5962b3-8288-4de6-cd3b-7bd04e860c81"
      },
      "source": [
        "# Matthews correlation coefficient\n",
        "\n",
        "matthews_corrcoef(y_test, y_pred)"
      ],
      "execution_count": 16,
      "outputs": [
        {
          "output_type": "execute_result",
          "data": {
            "text/plain": [
              "0.0472859980755036"
            ]
          },
          "metadata": {
            "tags": []
          },
          "execution_count": 16
        }
      ]
    },
    {
      "cell_type": "code",
      "metadata": {
        "colab": {
          "base_uri": "https://localhost:8080/",
          "height": 644
        },
        "id": "kdUGw5UmzLQO",
        "outputId": "d7475b40-7055-4c8c-d8a7-df509ae3a0bf"
      },
      "source": [
        "# Confustion Matrix \n",
        "\n",
        "cm = confusion_matrix(y_test,nb.predict(X_test))\n",
        "plt.figure(figsize=[10,10])\n",
        "ax = sns.heatmap(cm, annot=True, cmap='Blues', cbar=False, annot_kws={\"size\": 14}, fmt='g')\n",
        "cmlabels = ['True Negatives', 'False Positives','False Negatives', 'True Positives']\n",
        "for i,t in enumerate(ax.texts):\n",
        "    t.set_text(t.get_text() + \"\\n\" + cmlabels[i])\n",
        "plt.title('Confusion Matrix', size=15)\n",
        "plt.xlabel('Predicted Values', size=13)\n",
        "plt.ylabel('True Values', size=13)"
      ],
      "execution_count": 17,
      "outputs": [
        {
          "output_type": "execute_result",
          "data": {
            "text/plain": [
              "Text(69.0, 0.5, 'True Values')"
            ]
          },
          "metadata": {
            "tags": []
          },
          "execution_count": 17
        },
        {
          "output_type": "display_data",
          "data": {
            "image/png": "[encoded data removed]",
            "text/plain": [
              "<Figure size 720x720 with 1 Axes>"
            ]
          },
          "metadata": {
            "tags": [],
            "needs_background": "light"
          }
        }
      ]
    },
    {
      "cell_type": "markdown",
      "metadata": {
        "id": "ClKDgSNMzLQO"
      },
      "source": [
        "## DistilBERT"
      ]
    },
    {
      "cell_type": "markdown",
      "metadata": {
        "id": "UpVpa_HT7pri"
      },
      "source": [
        "This model makes use of a [Hugging Face pipeline](https://huggingface.co/transformers/main_classes/pipelines.html#transformers.TextClassificationPipeline) and is extremely simply to use. This is why it was chosen as the 'Best' Model because not only does it give the desired results with respect to Negative Recall, but it can be simply implemented into the business workflow going forward. There is room for improvement in overall model performance given additional project time. "
      ]
    },
    {
      "cell_type": "code",
      "metadata": {
        "id": "vtPC6TGzzLQO",
        "colab": {
          "base_uri": "https://localhost:8080/",
          "height": 212,
          "referenced_widgets": [
            "4f86e0faaae840c3a41381d716dfc04f",
            "b82db9cd0ed74f7c9bd8b9dfa58e9e55",
            "fa0a6d8c406145c0aed162b8ff0fa418",
            "7e481bec65cc4035ba0f4f08254c8e4a",
            "20612494d1ab41bf9d49bd4481df3c65",
            "5a209277524d4ec8ac4bf5775bde04b1",
            "529f095bd0074ad4bc224b2a5b8973b7",
            "ccfc33beda9041f49aa93be11b774728",
            "f72098cbe2c84881a7b7b7344869a55d",
            "6c0b2f27cd6147baad2624c4bf38c761",
            "602aa17650fa412c9127449e78767db5",
            "9c45e8cc793e4c0db086007bab1a117b",
            "4ce19b8aff7b48dc91b7bc35521e6782",
            "b1c15c6f438f4ee3835c4050325b72a0",
            "c191fb163ecd4ba78fdcf683caad907e",
            "c0123750709d46658632eb28e641ad46",
            "deaedd4f2a5e485eaba0035958268b29",
            "571e8df3ee224b34ba5e6a8980960c62",
            "a45376969fab40898a8c394d7c8b0a04",
            "be5290f65fd54703bdf9c6160c8c5782",
            "00de20f3042d46e9bbc9e831d9990796",
            "b87ccbff080046e2a9f6f21384a5deef",
            "0fe4bc5813154060996585eb894ca120",
            "dd1d701a491e4431a0624d4d62e3f89e",
            "25b3a73823744e40863b29d40280a7b1",
            "99d54010ebdc48c6b0f23c09b1296c25",
            "ddf7ca63352245a99a5a1e29bb1d6f37",
            "b460201cc99d457a9c726703fe958c70",
            "f845392e7368455a8a85f0d0338eae82",
            "b867ef7740f4413c8a3976acb295238c",
            "2c3aecee8a5c43998b68543ae4e23ac9",
            "4f2c05d51e31456ba16229a2afc9bbef"
          ]
        },
        "outputId": "1b4fa7d8-0510-4f91-dcd4-a7f7b045f650"
      },
      "source": [
        "classifier = pipeline('sentiment-analysis')"
      ],
      "execution_count": 18,
      "outputs": [
        {
          "output_type": "display_data",
          "data": {
            "application/vnd.jupyter.widget-view+json": {
              "model_id": "4f86e0faaae840c3a41381d716dfc04f",
              "version_minor": 0,
              "version_major": 2
            },
            "text/plain": [
              "HBox(children=(FloatProgress(value=0.0, description='Downloading', max=629.0, style=ProgressStyle(description_…"
            ]
          },
          "metadata": {
            "tags": []
          }
        },
        {
          "output_type": "stream",
          "text": [
            "\n"
          ],
          "name": "stdout"
        },
        {
          "output_type": "display_data",
          "data": {
            "application/vnd.jupyter.widget-view+json": {
              "model_id": "f72098cbe2c84881a7b7b7344869a55d",
              "version_minor": 0,
              "version_major": 2
            },
            "text/plain": [
              "HBox(children=(FloatProgress(value=0.0, description='Downloading', max=267844284.0, style=ProgressStyle(descri…"
            ]
          },
          "metadata": {
            "tags": []
          }
        },
        {
          "output_type": "stream",
          "text": [
            "\n"
          ],
          "name": "stdout"
        },
        {
          "output_type": "display_data",
          "data": {
            "application/vnd.jupyter.widget-view+json": {
              "model_id": "deaedd4f2a5e485eaba0035958268b29",
              "version_minor": 0,
              "version_major": 2
            },
            "text/plain": [
              "HBox(children=(FloatProgress(value=0.0, description='Downloading', max=231508.0, style=ProgressStyle(descripti…"
            ]
          },
          "metadata": {
            "tags": []
          }
        },
        {
          "output_type": "stream",
          "text": [
            "\n"
          ],
          "name": "stdout"
        },
        {
          "output_type": "display_data",
          "data": {
            "application/vnd.jupyter.widget-view+json": {
              "model_id": "25b3a73823744e40863b29d40280a7b1",
              "version_minor": 0,
              "version_major": 2
            },
            "text/plain": [
              "HBox(children=(FloatProgress(value=0.0, description='Downloading', max=48.0, style=ProgressStyle(description_w…"
            ]
          },
          "metadata": {
            "tags": []
          }
        },
        {
          "output_type": "stream",
          "text": [
            "\n"
          ],
          "name": "stdout"
        }
      ]
    },
    {
      "cell_type": "code",
      "metadata": {
        "id": "Ua0Hh0EezLQO"
      },
      "source": [
        "df['Result'] = df['Text'].apply(lambda text: classifier(text))"
      ],
      "execution_count": 19,
      "outputs": []
    },
    {
      "cell_type": "code",
      "metadata": {
        "colab": {
          "base_uri": "https://localhost:8080/",
          "height": 195
        },
        "id": "ebHLvaR-0fVn",
        "outputId": "5484c6a9-58d9-457b-8508-5af4c9be2387"
      },
      "source": [
        "df=df.explode('Result')\n",
        "df['Sentiment']  = df['Result'].apply(lambda score_dict: score_dict['label'])\n",
        "df['Score'] = df['Result'].apply(lambda score_dict: score_dict['score'])\n",
        "df['Sentiment_Num'] = df['Sentiment'].apply(lambda c: 1 if c =='POSITIVE' else 0)\n",
        "\n",
        "df.head()"
      ],
      "execution_count": 20,
      "outputs": [
        {
          "output_type": "execute_result",
          "data": {
            "text/html": [
              "<div>\n",
              "<style scoped>\n",
              "    .dataframe tbody tr th:only-of-type {\n",
              "        vertical-align: middle;\n",
              "    }\n",
              "\n",
              "    .dataframe tbody tr th {\n",
              "        vertical-align: top;\n",
              "    }\n",
              "\n",
              "    .dataframe thead th {\n",
              "        text-align: right;\n",
              "    }\n",
              "</style>\n",
              "<table border=\"1\" class=\"dataframe\">\n",
              "  <thead>\n",
              "    <tr style=\"text-align: right;\">\n",
              "      <th></th>\n",
              "      <th>Brand</th>\n",
              "      <th>Text</th>\n",
              "      <th>Sentiment_True</th>\n",
              "      <th>Result</th>\n",
              "      <th>Sentiment</th>\n",
              "      <th>Score</th>\n",
              "      <th>Sentiment_Num</th>\n",
              "    </tr>\n",
              "  </thead>\n",
              "  <tbody>\n",
              "    <tr>\n",
              "      <th>0</th>\n",
              "      <td>A</td>\n",
              "      <td>one of the other reviewers has mentioned that ...</td>\n",
              "      <td>1</td>\n",
              "      <td>{'label': 'POSITIVE', 'score': 0.9942501187324...</td>\n",
              "      <td>POSITIVE</td>\n",
              "      <td>0.994250</td>\n",
              "      <td>1</td>\n",
              "    </tr>\n",
              "    <tr>\n",
              "      <th>1</th>\n",
              "      <td>A</td>\n",
              "      <td>wonderful little production the filming techni...</td>\n",
              "      <td>1</td>\n",
              "      <td>{'label': 'POSITIVE', 'score': 0.9991052150726...</td>\n",
              "      <td>POSITIVE</td>\n",
              "      <td>0.999105</td>\n",
              "      <td>1</td>\n",
              "    </tr>\n",
              "    <tr>\n",
              "      <th>2</th>\n",
              "      <td>A</td>\n",
              "      <td>thought this was wonderful way to spend time o...</td>\n",
              "      <td>1</td>\n",
              "      <td>{'label': 'POSITIVE', 'score': 0.8816632032394...</td>\n",
              "      <td>POSITIVE</td>\n",
              "      <td>0.881663</td>\n",
              "      <td>1</td>\n",
              "    </tr>\n",
              "    <tr>\n",
              "      <th>3</th>\n",
              "      <td>A</td>\n",
              "      <td>basically theres family where little boy jake ...</td>\n",
              "      <td>0</td>\n",
              "      <td>{'label': 'NEGATIVE', 'score': 0.996266782283783}</td>\n",
              "      <td>NEGATIVE</td>\n",
              "      <td>0.996267</td>\n",
              "      <td>0</td>\n",
              "    </tr>\n",
              "    <tr>\n",
              "      <th>4</th>\n",
              "      <td>A</td>\n",
              "      <td>petter matteis love in the time of money is vi...</td>\n",
              "      <td>1</td>\n",
              "      <td>{'label': 'POSITIVE', 'score': 0.9998071789741...</td>\n",
              "      <td>POSITIVE</td>\n",
              "      <td>0.999807</td>\n",
              "      <td>1</td>\n",
              "    </tr>\n",
              "  </tbody>\n",
              "</table>\n",
              "</div>"
            ],
            "text/plain": [
              "  Brand  ... Sentiment_Num\n",
              "0     A  ...             1\n",
              "1     A  ...             1\n",
              "2     A  ...             1\n",
              "3     A  ...             0\n",
              "4     A  ...             1\n",
              "\n",
              "[5 rows x 7 columns]"
            ]
          },
          "metadata": {
            "tags": []
          },
          "execution_count": 20
        }
      ]
    },
    {
      "cell_type": "code",
      "metadata": {
        "id": "4JvCpIL2zLQO"
      },
      "source": [
        "y_true = df.Sentiment_True\n",
        "y_pred = df.Sentiment_Num"
      ],
      "execution_count": 21,
      "outputs": []
    },
    {
      "cell_type": "markdown",
      "metadata": {
        "id": "TVFq0GARzLQO"
      },
      "source": [
        "### Evaluate"
      ]
    },
    {
      "cell_type": "code",
      "metadata": {
        "colab": {
          "base_uri": "https://localhost:8080/"
        },
        "id": "wqNIMNjyzLQO",
        "outputId": "bae78cb8-7749-4c5f-ee0e-582b56d2e06f"
      },
      "source": [
        "# Classification Report\n",
        "\n",
        "target_names = ['Negative', 'Positive']\n",
        "print(classification_report(y_true, y_pred, target_names=target_names))"
      ],
      "execution_count": 22,
      "outputs": [
        {
          "output_type": "stream",
          "text": [
            "              precision    recall  f1-score   support\n",
            "\n",
            "    Negative       0.75      0.78      0.77       139\n",
            "    Positive       0.73      0.69      0.71       118\n",
            "\n",
            "    accuracy                           0.74       257\n",
            "   macro avg       0.74      0.74      0.74       257\n",
            "weighted avg       0.74      0.74      0.74       257\n",
            "\n"
          ],
          "name": "stdout"
        }
      ]
    },
    {
      "cell_type": "code",
      "metadata": {
        "colab": {
          "base_uri": "https://localhost:8080/"
        },
        "id": "_d6N4AUUzLQP",
        "outputId": "6c7dcccf-30d0-4519-ff50-aa9cf4270ddd"
      },
      "source": [
        "# Matthews correlation coefficient\n",
        "\n",
        "matthews_corrcoef(y_true, y_pred)"
      ],
      "execution_count": 23,
      "outputs": [
        {
          "output_type": "execute_result",
          "data": {
            "text/plain": [
              "0.48147152599431037"
            ]
          },
          "metadata": {
            "tags": []
          },
          "execution_count": 23
        }
      ]
    },
    {
      "cell_type": "code",
      "metadata": {
        "colab": {
          "base_uri": "https://localhost:8080/",
          "height": 644
        },
        "id": "dXjFJS2dzLQP",
        "outputId": "884cce40-d743-4d05-c1bb-bd3bcd69199e"
      },
      "source": [
        "# Confustion Matrix \n",
        "\n",
        "cm = confusion_matrix(y_true,y_pred)\n",
        "plt.figure(figsize=[10,10])\n",
        "ax = sns.heatmap(cm, annot=True, cmap='Blues', cbar=False, annot_kws={\"size\": 14}, fmt='g')\n",
        "cmlabels = ['True Negatives', 'False Positives','False Negatives', 'True Positives']\n",
        "for i,t in enumerate(ax.texts):\n",
        "    t.set_text(t.get_text() + \"\\n\" + cmlabels[i])\n",
        "plt.title('Confusion Matrix', size=15)\n",
        "plt.xlabel('Predicted Values', size=13)\n",
        "plt.ylabel('True Values', size=13)"
      ],
      "execution_count": 24,
      "outputs": [
        {
          "output_type": "execute_result",
          "data": {
            "text/plain": [
              "Text(69.0, 0.5, 'True Values')"
            ]
          },
          "metadata": {
            "tags": []
          },
          "execution_count": 24
        },
        {
          "output_type": "display_data",
          "data": {
            "image/png": "[encoded data removed]",
            "text/plain": [
              "<Figure size 720x720 with 1 Axes>"
            ]
          },
          "metadata": {
            "tags": [],
            "needs_background": "light"
          }
        }
      ]
    },
    {
      "cell_type": "markdown",
      "metadata": {
        "id": "KFXHnURezLQP"
      },
      "source": [
        "# Sentiment Score"
      ]
    },
    {
      "cell_type": "code",
      "metadata": {
        "id": "NM_wVRmyzLQP"
      },
      "source": [
        "df_all = df.copy()\n",
        "df_all = df_all.reset_index()\n",
        "dfA = df[df['Brand'] == 'A']\n",
        "dfA = dfA.reset_index()\n",
        "dfB = df[df['Brand'] == 'B']\n",
        "dfB = dfB.reset_index()"
      ],
      "execution_count": 25,
      "outputs": []
    },
    {
      "cell_type": "code",
      "metadata": {
        "id": "ofGoOqFBzLQP"
      },
      "source": [
        "positive = 0\n",
        "negative = 0\n",
        "\n",
        "for i in range(len(df_all.Sentiment_Num)):\n",
        "    if df_all.Sentiment_Num[i] == 1:\n",
        "      positive +=1\n",
        "    else:\n",
        "      negative += 1\n",
        "\n",
        "positiveA = 0\n",
        "negativeA = 0\n",
        "\n",
        "for i in range(len(dfA.Sentiment_Num)):\n",
        "    if dfA.Sentiment_Num[i] == 1:\n",
        "      positiveA +=1\n",
        "    else:\n",
        "      negativeA += 1\n",
        "\n",
        "positiveB = 0\n",
        "negativeB = 0\n",
        "\n",
        "for i in range(len(dfB.Sentiment_Num)):\n",
        "    if dfB.Sentiment_Num[i] == 1: #positive\n",
        "        positiveB +=1\n",
        "    else:\n",
        "        negativeB += 1"
      ],
      "execution_count": 26,
      "outputs": []
    },
    {
      "cell_type": "code",
      "metadata": {
        "colab": {
          "base_uri": "https://localhost:8080/"
        },
        "id": "AeQN4jz1zLQP",
        "outputId": "554ef9c7-d4bd-4a7e-a35c-60aebf7a5a69"
      },
      "source": [
        "#Relative Proportional Difference.\n",
        "#Sentiment = (P − N) / (P + N)\n",
        "total_all = positive + negative\n",
        "normalized_sentiment_all = (positive-negative)/total_all*100\n",
        "totalA = positiveA + negativeA\n",
        "normalized_sentimentA = (positiveA-negativeA)/totalA*100\n",
        "totalB = positiveB + negativeB\n",
        "normalized_sentimentB = (positiveB-negativeB)/totalB*100\n",
        "\n",
        "print('For all the feedback there was a total of {} positive feedback statements and {} negative feedback statements'.format(positive,negative))\n",
        "print('The overall dataset had a normalized sentiment score of {}'.format(normalized_sentiment_all))\n",
        "print('For Brand A there was a total of {} positive feedback statements and {} negative feedback statements'.format(positiveA,negativeA))\n",
        "print('For Brand A there was a normalized sentiment score of {}'.format(normalized_sentimentA))\n",
        "print('For Brand B there was a total of {} positive feedback statements and {} negative feedback statements'.format(positiveB,negativeB))\n",
        "print('For Brand B there was a normalized sentiment score of {}'.format(normalized_sentimentB))"
      ],
      "execution_count": 27,
      "outputs": [
        {
          "output_type": "stream",
          "text": [
            "For all the feedback there was a total of 112 positive feedback statements and 145 negative feedback statements\n",
            "The overall dataset had a normalized sentiment score of -12.840466926070038\n",
            "For Brand A there was a total of 56 positive feedback statements and 74 negative feedback statements\n",
            "For Brand A there was a normalized sentiment score of -13.846153846153847\n",
            "For Brand B there was a total of 55 positive feedback statements and 70 negative feedback statements\n",
            "For Brand B there was a normalized sentiment score of -12.0\n"
          ],
          "name": "stdout"
        }
      ]
    },
    {
      "cell_type": "code",
      "metadata": {
        "colab": {
          "base_uri": "https://localhost:8080/",
          "height": 336
        },
        "id": "0Mn8163pzLQQ",
        "outputId": "24e254d8-2ad2-450c-8748-91f50e5c2648"
      },
      "source": [
        "# creating the dataset\n",
        "data = {'Brand A':normalized_sentimentA/100, 'Brand B':normalized_sentimentB/100, 'Overall':normalized_sentiment_all/100}\n",
        "\n",
        "#keys = brand\n",
        "#values = sentiment score\n",
        "brands = list(data.keys())\n",
        "values = list(data.values())\n",
        "  \n",
        "fig = plt.figure(figsize = (10, 5))\n",
        "labels = ['Brand A', 'Brand B', 'Overall']\n",
        "# creating the bar plot\n",
        "plt.bar(brands, values, color =['#ff0099','#9900cc','#0033ff'], width = 0.9)\n",
        "#plt.xlabel(\"Brand\")\n",
        "plt.ylabel(\"Normalized Sentiment Score\")\n",
        "plt.title(\"Sentiment Score for Brands Assessed in Customer Feedback\")\n",
        "plt.ylim(-0.7,0.5)\n",
        "plt.show()"
      ],
      "execution_count": 28,
      "outputs": [
        {
          "output_type": "display_data",
          "data": {
            "image/png": "[encoded data removed]",
            "text/plain": [
              "<Figure size 720x360 with 1 Axes>"
            ]
          },
          "metadata": {
            "tags": [],
            "needs_background": "light"
          }
        }
      ]
    },
    {
      "cell_type": "markdown",
      "metadata": {
        "id": "MZzoPMBG8ght"
      },
      "source": [
        "How does your data look? ^^ Is this the sentiment you expected to see for your Brand? Next step, how can we make the sentiment better? "
      ]
    },
    {
      "cell_type": "markdown",
      "metadata": {
        "id": "GZa2oxAM2DTn"
      },
      "source": [
        "# Log of Models"
      ]
    },
    {
      "cell_type": "markdown",
      "metadata": {
        "id": "46PyRvrq9Nif"
      },
      "source": [
        "Specific to this project"
      ]
    },
    {
      "cell_type": "code",
      "metadata": {
        "colab": {
          "base_uri": "https://localhost:8080/",
          "height": 343
        },
        "id": "AesF_qyl2B7v",
        "outputId": "5fa6a37b-11db-4517-bcad-21ffacc12c81"
      },
      "source": [
        "# Taken from my log book and captured here for context\n",
        "\n",
        "results = {\n",
        "    \"Model\": ['VADER_0','TF-IDF NB_0','TF-IDF SVC_0', 'TF-IDF RF_0','TF-IDF RF_1','bert_base_cased_0','bert_base_cased_1','bert_base_cased_2','DistilBERT_0','DistilBERT_1'] ,\n",
        "    \"mcc\": [0.259876874, 0.305031118, 0.258752251, 0.346311724, 0, 0.354581256, 0.103653498, -0.130930734, 0.74691358, 0.770428016] ,\n",
        "    \"accuracy\": [0.552469136, 0.663265306, 0.67, 0.765306122, 0.75, 0,0,0, 0.431279028, 0.481519565] ,\n",
        "    \"neg_recall\": [0.32994924, 0.66, 0.74, 0.93, 1.0,0,0,0, 0.75, 0.87] ,\n",
        "    \"pos_recall\": [0.8976378, 0.67, 0.53, 0.37, 0.5,0,0,0, 0.74, 0.58] ,\n",
        "    \"neg_precision\": [0.83333333, 0.82, 0.78, 0.77, 0.67, 0,0,0, 0.87, 0.79] ,\n",
        "    \"pos_precision\": [0.46341463, 0.47, 0.47, 0.69, 1.0, 0,0,0, 0.55, 0.72] ,\n",
        "    \"neg_f1\": [0.47, 0.73, 0.76, 0.84, 0.8, 0,0,0, 0.81, 0.83] ,\n",
        "    \"pos_f1\": [0.61, 0.55, 0.5, 0.48, 0.67,0,0,0, 0.63, 0.64]\n",
        "}\n",
        "df = pd.DataFrame(results)\n",
        "df"
      ],
      "execution_count": 29,
      "outputs": [
        {
          "output_type": "execute_result",
          "data": {
            "text/html": [
              "<div>\n",
              "<style scoped>\n",
              "    .dataframe tbody tr th:only-of-type {\n",
              "        vertical-align: middle;\n",
              "    }\n",
              "\n",
              "    .dataframe tbody tr th {\n",
              "        vertical-align: top;\n",
              "    }\n",
              "\n",
              "    .dataframe thead th {\n",
              "        text-align: right;\n",
              "    }\n",
              "</style>\n",
              "<table border=\"1\" class=\"dataframe\">\n",
              "  <thead>\n",
              "    <tr style=\"text-align: right;\">\n",
              "      <th></th>\n",
              "      <th>Model</th>\n",
              "      <th>mcc</th>\n",
              "      <th>accuracy</th>\n",
              "      <th>neg_recall</th>\n",
              "      <th>pos_recall</th>\n",
              "      <th>neg_precision</th>\n",
              "      <th>pos_precision</th>\n",
              "      <th>neg_f1</th>\n",
              "      <th>pos_f1</th>\n",
              "    </tr>\n",
              "  </thead>\n",
              "  <tbody>\n",
              "    <tr>\n",
              "      <th>0</th>\n",
              "      <td>VADER_0</td>\n",
              "      <td>0.259877</td>\n",
              "      <td>0.552469</td>\n",
              "      <td>0.329949</td>\n",
              "      <td>0.897638</td>\n",
              "      <td>0.833333</td>\n",
              "      <td>0.463415</td>\n",
              "      <td>0.47</td>\n",
              "      <td>0.61</td>\n",
              "    </tr>\n",
              "    <tr>\n",
              "      <th>1</th>\n",
              "      <td>TF-IDF NB_0</td>\n",
              "      <td>0.305031</td>\n",
              "      <td>0.663265</td>\n",
              "      <td>0.660000</td>\n",
              "      <td>0.670000</td>\n",
              "      <td>0.820000</td>\n",
              "      <td>0.470000</td>\n",
              "      <td>0.73</td>\n",
              "      <td>0.55</td>\n",
              "    </tr>\n",
              "    <tr>\n",
              "      <th>2</th>\n",
              "      <td>TF-IDF SVC_0</td>\n",
              "      <td>0.258752</td>\n",
              "      <td>0.670000</td>\n",
              "      <td>0.740000</td>\n",
              "      <td>0.530000</td>\n",
              "      <td>0.780000</td>\n",
              "      <td>0.470000</td>\n",
              "      <td>0.76</td>\n",
              "      <td>0.50</td>\n",
              "    </tr>\n",
              "    <tr>\n",
              "      <th>3</th>\n",
              "      <td>TF-IDF RF_0</td>\n",
              "      <td>0.346312</td>\n",
              "      <td>0.765306</td>\n",
              "      <td>0.930000</td>\n",
              "      <td>0.370000</td>\n",
              "      <td>0.770000</td>\n",
              "      <td>0.690000</td>\n",
              "      <td>0.84</td>\n",
              "      <td>0.48</td>\n",
              "    </tr>\n",
              "    <tr>\n",
              "      <th>4</th>\n",
              "      <td>TF-IDF RF_1</td>\n",
              "      <td>0.000000</td>\n",
              "      <td>0.750000</td>\n",
              "      <td>1.000000</td>\n",
              "      <td>0.500000</td>\n",
              "      <td>0.670000</td>\n",
              "      <td>1.000000</td>\n",
              "      <td>0.80</td>\n",
              "      <td>0.67</td>\n",
              "    </tr>\n",
              "    <tr>\n",
              "      <th>5</th>\n",
              "      <td>bert_base_cased_0</td>\n",
              "      <td>0.354581</td>\n",
              "      <td>0.000000</td>\n",
              "      <td>0.000000</td>\n",
              "      <td>0.000000</td>\n",
              "      <td>0.000000</td>\n",
              "      <td>0.000000</td>\n",
              "      <td>0.00</td>\n",
              "      <td>0.00</td>\n",
              "    </tr>\n",
              "    <tr>\n",
              "      <th>6</th>\n",
              "      <td>bert_base_cased_1</td>\n",
              "      <td>0.103653</td>\n",
              "      <td>0.000000</td>\n",
              "      <td>0.000000</td>\n",
              "      <td>0.000000</td>\n",
              "      <td>0.000000</td>\n",
              "      <td>0.000000</td>\n",
              "      <td>0.00</td>\n",
              "      <td>0.00</td>\n",
              "    </tr>\n",
              "    <tr>\n",
              "      <th>7</th>\n",
              "      <td>bert_base_cased_2</td>\n",
              "      <td>-0.130931</td>\n",
              "      <td>0.000000</td>\n",
              "      <td>0.000000</td>\n",
              "      <td>0.000000</td>\n",
              "      <td>0.000000</td>\n",
              "      <td>0.000000</td>\n",
              "      <td>0.00</td>\n",
              "      <td>0.00</td>\n",
              "    </tr>\n",
              "    <tr>\n",
              "      <th>8</th>\n",
              "      <td>DistilBERT_0</td>\n",
              "      <td>0.746914</td>\n",
              "      <td>0.431279</td>\n",
              "      <td>0.750000</td>\n",
              "      <td>0.740000</td>\n",
              "      <td>0.870000</td>\n",
              "      <td>0.550000</td>\n",
              "      <td>0.81</td>\n",
              "      <td>0.63</td>\n",
              "    </tr>\n",
              "    <tr>\n",
              "      <th>9</th>\n",
              "      <td>DistilBERT_1</td>\n",
              "      <td>0.770428</td>\n",
              "      <td>0.481520</td>\n",
              "      <td>0.870000</td>\n",
              "      <td>0.580000</td>\n",
              "      <td>0.790000</td>\n",
              "      <td>0.720000</td>\n",
              "      <td>0.83</td>\n",
              "      <td>0.64</td>\n",
              "    </tr>\n",
              "  </tbody>\n",
              "</table>\n",
              "</div>"
            ],
            "text/plain": [
              "               Model       mcc  accuracy  ...  pos_precision  neg_f1  pos_f1\n",
              "0            VADER_0  0.259877  0.552469  ...       0.463415    0.47    0.61\n",
              "1        TF-IDF NB_0  0.305031  0.663265  ...       0.470000    0.73    0.55\n",
              "2       TF-IDF SVC_0  0.258752  0.670000  ...       0.470000    0.76    0.50\n",
              "3        TF-IDF RF_0  0.346312  0.765306  ...       0.690000    0.84    0.48\n",
              "4        TF-IDF RF_1  0.000000  0.750000  ...       1.000000    0.80    0.67\n",
              "5  bert_base_cased_0  0.354581  0.000000  ...       0.000000    0.00    0.00\n",
              "6  bert_base_cased_1  0.103653  0.000000  ...       0.000000    0.00    0.00\n",
              "7  bert_base_cased_2 -0.130931  0.000000  ...       0.000000    0.00    0.00\n",
              "8       DistilBERT_0  0.746914  0.431279  ...       0.550000    0.81    0.63\n",
              "9       DistilBERT_1  0.770428  0.481520  ...       0.720000    0.83    0.64\n",
              "\n",
              "[10 rows x 9 columns]"
            ]
          },
          "metadata": {
            "tags": []
          },
          "execution_count": 29
        }
      ]
    },
    {
      "cell_type": "code",
      "metadata": {
        "colab": {
          "base_uri": "https://localhost:8080/",
          "height": 751
        },
        "id": "HgqT8hio2hBl",
        "outputId": "26743bb4-5fcc-4b16-fb52-af44cc02bbc2"
      },
      "source": [
        "df1 = df.melt('Model', var_name='cols',  value_name='Values')\n",
        "g = sns.factorplot(x=\"Model\", y=\"Values\", hue='cols', data=df1,height=8.27, aspect=11.7/8.27)\n",
        "g.set(title='Model Results')\n",
        "g.set_xticklabels(rotation=30)"
      ],
      "execution_count": 30,
      "outputs": [
        {
          "output_type": "stream",
          "text": [
            "/usr/local/lib/python3.7/dist-packages/seaborn/categorical.py:3714: UserWarning: The `factorplot` function has been renamed to `catplot`. The original name will be removed in a future release. Please update your code. Note that the default `kind` in `factorplot` (`'point'`) has changed `'strip'` in `catplot`.\n",
            "  warnings.warn(msg)\n"
          ],
          "name": "stderr"
        },
        {
          "output_type": "execute_result",
          "data": {
            "text/plain": [
              "<seaborn.axisgrid.FacetGrid at 0x7ff15f20a1d0>"
            ]
          },
          "metadata": {
            "tags": []
          },
          "execution_count": 30
        },
        {
          "output_type": "display_data",
          "data": {
            "image/png": "[encoded data removed]",
            "text/plain": [
              "<Figure size 947.4x595.44 with 1 Axes>"
            ]
          },
          "metadata": {
            "tags": [],
            "needs_background": "light"
          }
        }
      ]
    },
    {
      "cell_type": "code",
      "metadata": {
        "id": "XtoSpyvi2CEb"
      },
      "source": [
        "# Top models with notes included\n",
        "\n",
        "results_notes = {\n",
        "    \"Model\": ['VADER_0','TF-IDF NB_0','TF-IDF SVC_0', 'TF-IDF RF_0','TF-IDF RF_1','DistilBERT_0','DistilBERT_1'] ,\n",
        "    \"mcc\": [0.259876874, 0.305031118, 0.258752251, 0.346311724,  0.346311724, 0.74691358, 0.770428016] ,\n",
        "    #\"accuracy\": [0.552469136, 0.663265306, 0.67, 0.765306122, 0.75,  0.431279028, 0.481519565] ,\n",
        "    \"neg_recall\": [0.32994924, 0.66, 0.74, 0.93, 1.0, 0.75, 0.87] ,\n",
        "    \"neg_f1\": [0.47, 0.73, 0.76, 0.84, 0.8, 0.81, 0.83] ,\n",
        "    #\"pos_f1\": [0.61, 0.55, 0.5, 0.48, 0.67, 0.63, 0.64],\n",
        "    \"notes\": ['Base NLP',\n",
        "              'Super fast to execute - good first option for gut check',\n",
        "              'Had the code ready to execute so was worth a quick try',\n",
        "              'Super fast to execute - good inital results',\n",
        "              'Very small dataset (recall = 1.0 not a good metric) - used Train Val Test; worth using GridSearch again only on Train Test',\n",
        "              'State-of-the-Art Learning Transfer; very simple and good results',\n",
        "              'Updated dataset to remove unclear entries, even better results. Very promising']\n",
        "}"
      ],
      "execution_count": 31,
      "outputs": []
    },
    {
      "cell_type": "code",
      "metadata": {
        "colab": {
          "base_uri": "https://localhost:8080/",
          "height": 254
        },
        "id": "F4YiCQoF2wdc",
        "outputId": "1f9729ef-bf3a-457a-902d-1dbb3febfb7a"
      },
      "source": [
        "pd.set_option('max_colwidth', None)\n",
        "df4 = pd.DataFrame(results_notes)\n",
        "df4"
      ],
      "execution_count": 32,
      "outputs": [
        {
          "output_type": "execute_result",
          "data": {
            "text/html": [
              "<div>\n",
              "<style scoped>\n",
              "    .dataframe tbody tr th:only-of-type {\n",
              "        vertical-align: middle;\n",
              "    }\n",
              "\n",
              "    .dataframe tbody tr th {\n",
              "        vertical-align: top;\n",
              "    }\n",
              "\n",
              "    .dataframe thead th {\n",
              "        text-align: right;\n",
              "    }\n",
              "</style>\n",
              "<table border=\"1\" class=\"dataframe\">\n",
              "  <thead>\n",
              "    <tr style=\"text-align: right;\">\n",
              "      <th></th>\n",
              "      <th>Model</th>\n",
              "      <th>mcc</th>\n",
              "      <th>neg_recall</th>\n",
              "      <th>neg_f1</th>\n",
              "      <th>notes</th>\n",
              "    </tr>\n",
              "  </thead>\n",
              "  <tbody>\n",
              "    <tr>\n",
              "      <th>0</th>\n",
              "      <td>VADER_0</td>\n",
              "      <td>0.259877</td>\n",
              "      <td>0.329949</td>\n",
              "      <td>0.47</td>\n",
              "      <td>Base NLP</td>\n",
              "    </tr>\n",
              "    <tr>\n",
              "      <th>1</th>\n",
              "      <td>TF-IDF NB_0</td>\n",
              "      <td>0.305031</td>\n",
              "      <td>0.660000</td>\n",
              "      <td>0.73</td>\n",
              "      <td>Super fast to execute - good first option for gut check</td>\n",
              "    </tr>\n",
              "    <tr>\n",
              "      <th>2</th>\n",
              "      <td>TF-IDF SVC_0</td>\n",
              "      <td>0.258752</td>\n",
              "      <td>0.740000</td>\n",
              "      <td>0.76</td>\n",
              "      <td>Had the code ready to execute so was worth a quick try</td>\n",
              "    </tr>\n",
              "    <tr>\n",
              "      <th>3</th>\n",
              "      <td>TF-IDF RF_0</td>\n",
              "      <td>0.346312</td>\n",
              "      <td>0.930000</td>\n",
              "      <td>0.84</td>\n",
              "      <td>Super fast to execute - good inital results</td>\n",
              "    </tr>\n",
              "    <tr>\n",
              "      <th>4</th>\n",
              "      <td>TF-IDF RF_1</td>\n",
              "      <td>0.346312</td>\n",
              "      <td>1.000000</td>\n",
              "      <td>0.80</td>\n",
              "      <td>Very small dataset (recall = 1.0 not a good metric) - used Train Val Test; worth using GridSearch again only on Train Test</td>\n",
              "    </tr>\n",
              "    <tr>\n",
              "      <th>5</th>\n",
              "      <td>DistilBERT_0</td>\n",
              "      <td>0.746914</td>\n",
              "      <td>0.750000</td>\n",
              "      <td>0.81</td>\n",
              "      <td>State-of-the-Art Learning Transfer; very simple and good results</td>\n",
              "    </tr>\n",
              "    <tr>\n",
              "      <th>6</th>\n",
              "      <td>DistilBERT_1</td>\n",
              "      <td>0.770428</td>\n",
              "      <td>0.870000</td>\n",
              "      <td>0.83</td>\n",
              "      <td>Updated dataset to remove unclear entries, even better results. Very promising</td>\n",
              "    </tr>\n",
              "  </tbody>\n",
              "</table>\n",
              "</div>"
            ],
            "text/plain": [
              "          Model  ...                                                                                                                       notes\n",
              "0       VADER_0  ...                                                                                                                    Base NLP\n",
              "1   TF-IDF NB_0  ...                                                                     Super fast to execute - good first option for gut check\n",
              "2  TF-IDF SVC_0  ...                                                                      Had the code ready to execute so was worth a quick try\n",
              "3   TF-IDF RF_0  ...                                                                                 Super fast to execute - good inital results\n",
              "4   TF-IDF RF_1  ...  Very small dataset (recall = 1.0 not a good metric) - used Train Val Test; worth using GridSearch again only on Train Test\n",
              "5  DistilBERT_0  ...                                                            State-of-the-Art Learning Transfer; very simple and good results\n",
              "6  DistilBERT_1  ...                                              Updated dataset to remove unclear entries, even better results. Very promising\n",
              "\n",
              "[7 rows x 5 columns]"
            ]
          },
          "metadata": {
            "tags": []
          },
          "execution_count": 32
        }
      ]
    },
    {
      "cell_type": "code",
      "metadata": {
        "id": "DxJDFD6E2w29"
      },
      "source": [
        "results2 = {\n",
        "    \"Model\": ['VADER_0','TF-IDF NB_0','TF-IDF SVC_0', 'TF-IDF RF_0','TF-IDF RF_1','DistilBERT_0','DistilBERT_1'] ,\n",
        "    \"mcc\": [0.259876874, 0.305031118, 0.258752251, 0.346311724,  0.346311724, 0.74691358, 0.770428016] ,\n",
        "    #\"accuracy\": [0.552469136, 0.663265306, 0.67, 0.765306122, 0.75,  0.431279028, 0.481519565] ,\n",
        "    \"neg_recall\": [0.32994924, 0.66, 0.74, 0.93, 1.0, 0.75, 0.87] ,\n",
        "    \"neg_f1\": [0.47, 0.73, 0.76, 0.84, 0.8, 0.81, 0.83] ,\n",
        "    #\"pos_f1\": [0.61, 0.55, 0.5, 0.48, 0.67, 0.63, 0.64]\n",
        "}\n",
        "df2 = pd.DataFrame(results2)"
      ],
      "execution_count": 33,
      "outputs": []
    },
    {
      "cell_type": "code",
      "metadata": {
        "colab": {
          "base_uri": "https://localhost:8080/",
          "height": 737
        },
        "id": "58DNhpcN24Uw",
        "outputId": "3e82fb11-be63-467e-84a7-82c1fe388415"
      },
      "source": [
        "df3 = df2.melt('Model', var_name='cols',  value_name='Values')\n",
        "g = sns.factorplot(x=\"Model\", y=\"Values\", hue='cols', data=df3,height=8.27, aspect=11.7/8.27)\n",
        "g.set(title='Model Results')\n",
        "g.set_xticklabels(rotation=30)"
      ],
      "execution_count": 34,
      "outputs": [
        {
          "output_type": "stream",
          "text": [
            "/usr/local/lib/python3.7/dist-packages/seaborn/categorical.py:3714: UserWarning: The `factorplot` function has been renamed to `catplot`. The original name will be removed in a future release. Please update your code. Note that the default `kind` in `factorplot` (`'point'`) has changed `'strip'` in `catplot`.\n",
            "  warnings.warn(msg)\n"
          ],
          "name": "stderr"
        },
        {
          "output_type": "execute_result",
          "data": {
            "text/plain": [
              "<seaborn.axisgrid.FacetGrid at 0x7ff15f1a8310>"
            ]
          },
          "metadata": {
            "tags": []
          },
          "execution_count": 34
        },
        {
          "output_type": "display_data",
          "data": {
            "image/png": "[encoded data removed]",
            "text/plain": [
              "<Figure size 929.65x595.44 with 1 Axes>"
            ]
          },
          "metadata": {
            "tags": [],
            "needs_background": "light"
          }
        }
      ]
    },
    {
      "cell_type": "markdown",
      "metadata": {
        "id": "TUWEt_5u6-IA"
      },
      "source": [
        "# Sentiment Widget"
      ]
    },
    {
      "cell_type": "markdown",
      "metadata": {
        "id": "LjlzBrqr7DC-"
      },
      "source": [
        "## Could be used for real-time analysis going forward"
      ]
    },
    {
      "cell_type": "code",
      "metadata": {
        "colab": {
          "base_uri": "https://localhost:8080/",
          "height": 96,
          "referenced_widgets": [
            "99fc4e53186f495dbff0f8c8cffbb721",
            "115ddaccc82a41c0a56a85f7b91580fa",
            "2c898244c9984eec9e04962217267ceb",
            "c63fae5e86c04cd39752943a87fdc5d6",
            "c0c4edd202484744807b4e0f9da9460f",
            "ff0598a024de4271832234141d29464f"
          ]
        },
        "id": "qr0iLBck-P_j",
        "outputId": "e4a2ee13-a419-42e7-f27d-708923246f6f"
      },
      "source": [
        "nlp_sentence_classif = pipeline('sentiment-analysis')\n",
        "\n",
        "task = widgets.Dropdown(\n",
        "    options=['sentiment-analysis'],\n",
        "    value='sentiment-analysis',\n",
        "    description='Task:',\n",
        "    disabled=False\n",
        ")\n",
        "\n",
        "input = widgets.Text(\n",
        "    value='',\n",
        "    placeholder='Enter something',\n",
        "    description='Your input:',\n",
        "    disabled=False\n",
        ")\n",
        "\n",
        "def forward(_):\n",
        "    if len(input.value) > 0: \n",
        "        if task.value == 'sentiment-analysis':\n",
        "          output = nlp_sentence_classif(input.value)\n",
        "        else:\n",
        "          output = nlp_fill(input.value)                \n",
        "        print(output)\n",
        "\n",
        "input.on_submit(forward)\n",
        "display(task, input)"
      ],
      "execution_count": 39,
      "outputs": [
        {
          "output_type": "display_data",
          "data": {
            "application/vnd.jupyter.widget-view+json": {
              "model_id": "99fc4e53186f495dbff0f8c8cffbb721",
              "version_minor": 0,
              "version_major": 2
            },
            "text/plain": [
              "Dropdown(description='Task:', options=('sentiment-analysis',), value='sentiment-analysis')"
            ]
          },
          "metadata": {
            "tags": []
          }
        },
        {
          "output_type": "display_data",
          "data": {
            "application/vnd.jupyter.widget-view+json": {
              "model_id": "c63fae5e86c04cd39752943a87fdc5d6",
              "version_minor": 0,
              "version_major": 2
            },
            "text/plain": [
              "Text(value='', description='Your input:', placeholder='Enter something')"
            ]
          },
          "metadata": {
            "tags": []
          }
        },
        {
          "output_type": "stream",
          "text": [
            "[{'label': 'POSITIVE', 'score': 0.9998799562454224}]\n"
          ],
          "name": "stdout"
        }
      ]
    }
  ]
}